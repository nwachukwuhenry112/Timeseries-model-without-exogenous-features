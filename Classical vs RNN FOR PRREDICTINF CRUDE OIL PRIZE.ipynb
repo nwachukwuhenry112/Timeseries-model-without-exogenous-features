{
 "cells": [
  {
   "cell_type": "code",
   "execution_count": 1,
   "metadata": {},
   "outputs": [
    {
     "data": {
      "text/plain": [
       "'C:\\\\Users\\\\Henry\\\\Comparative study'"
      ]
     },
     "execution_count": 1,
     "metadata": {},
     "output_type": "execute_result"
    }
   ],
   "source": [
    "pwd"
   ]
  },
  {
   "cell_type": "markdown",
   "metadata": {},
   "source": [
    "## This study is aimed at investigating the effect of neglecting exogenous features in time series modeling.\n",
    "\n",
    "## It also attempt to compare prediction accuracy of classical time series model with Recurrent neural network\n",
    "\n",
    "## All prizes are in USA dollars\n"
   ]
  },
  {
   "cell_type": "code",
   "execution_count": 2,
   "metadata": {},
   "outputs": [],
   "source": [
    "import pandas as pd\n",
    "import numpy as np\n",
    "import matplotlib.pyplot as plt \n",
    "plt.style.use(\"seaborn\")\n",
    "import seaborn as sns\n",
    "sns.set()"
   ]
  },
  {
   "cell_type": "code",
   "execution_count": 3,
   "metadata": {},
   "outputs": [
    {
     "data": {
      "text/html": [
       "<div>\n",
       "<style scoped>\n",
       "    .dataframe tbody tr th:only-of-type {\n",
       "        vertical-align: middle;\n",
       "    }\n",
       "\n",
       "    .dataframe tbody tr th {\n",
       "        vertical-align: top;\n",
       "    }\n",
       "\n",
       "    .dataframe thead th {\n",
       "        text-align: right;\n",
       "    }\n",
       "</style>\n",
       "<table border=\"1\" class=\"dataframe\">\n",
       "  <thead>\n",
       "    <tr style=\"text-align: right;\">\n",
       "      <th></th>\n",
       "      <th>Date</th>\n",
       "      <th>PRIZE</th>\n",
       "    </tr>\n",
       "  </thead>\n",
       "  <tbody>\n",
       "    <tr>\n",
       "      <th>0</th>\n",
       "      <td>Oct-1973</td>\n",
       "      <td>7.46</td>\n",
       "    </tr>\n",
       "    <tr>\n",
       "      <th>1</th>\n",
       "      <td>Nov-1973</td>\n",
       "      <td>9.01</td>\n",
       "    </tr>\n",
       "    <tr>\n",
       "      <th>2</th>\n",
       "      <td>Dec-1973</td>\n",
       "      <td>10.71</td>\n",
       "    </tr>\n",
       "    <tr>\n",
       "      <th>3</th>\n",
       "      <td>Jan-1974</td>\n",
       "      <td>13.67</td>\n",
       "    </tr>\n",
       "    <tr>\n",
       "      <th>4</th>\n",
       "      <td>Feb-1974</td>\n",
       "      <td>13.96</td>\n",
       "    </tr>\n",
       "  </tbody>\n",
       "</table>\n",
       "</div>"
      ],
      "text/plain": [
       "       Date  PRIZE\n",
       "0  Oct-1973   7.46\n",
       "1  Nov-1973   9.01\n",
       "2  Dec-1973  10.71\n",
       "3  Jan-1974  13.67\n",
       "4  Feb-1974  13.96"
      ]
     },
     "execution_count": 3,
     "metadata": {},
     "output_type": "execute_result"
    }
   ],
   "source": [
    "# importing the data to used for time series \n",
    "data_1 = pd.read_csv('case_1.csv')\n",
    "data_1.head(5)"
   ]
  },
  {
   "cell_type": "code",
   "execution_count": 4,
   "metadata": {},
   "outputs": [
    {
     "data": {
      "text/html": [
       "<div>\n",
       "<style scoped>\n",
       "    .dataframe tbody tr th:only-of-type {\n",
       "        vertical-align: middle;\n",
       "    }\n",
       "\n",
       "    .dataframe tbody tr th {\n",
       "        vertical-align: top;\n",
       "    }\n",
       "\n",
       "    .dataframe thead th {\n",
       "        text-align: right;\n",
       "    }\n",
       "</style>\n",
       "<table border=\"1\" class=\"dataframe\">\n",
       "  <thead>\n",
       "    <tr style=\"text-align: right;\">\n",
       "      <th></th>\n",
       "      <th>Date</th>\n",
       "      <th>PRIZE</th>\n",
       "    </tr>\n",
       "  </thead>\n",
       "  <tbody>\n",
       "    <tr>\n",
       "      <th>557</th>\n",
       "      <td>Nov-2020</td>\n",
       "      <td>NaN</td>\n",
       "    </tr>\n",
       "    <tr>\n",
       "      <th>558</th>\n",
       "      <td>Dec-2020</td>\n",
       "      <td>53.81</td>\n",
       "    </tr>\n",
       "    <tr>\n",
       "      <th>559</th>\n",
       "      <td>Jan-2021</td>\n",
       "      <td>NaN</td>\n",
       "    </tr>\n",
       "    <tr>\n",
       "      <th>560</th>\n",
       "      <td>Feb-2021</td>\n",
       "      <td>NaN</td>\n",
       "    </tr>\n",
       "    <tr>\n",
       "      <th>561</th>\n",
       "      <td>NaN</td>\n",
       "      <td>NaN</td>\n",
       "    </tr>\n",
       "  </tbody>\n",
       "</table>\n",
       "</div>"
      ],
      "text/plain": [
       "         Date  PRIZE\n",
       "557  Nov-2020    NaN\n",
       "558  Dec-2020  53.81\n",
       "559  Jan-2021    NaN\n",
       "560  Feb-2021    NaN\n",
       "561       NaN    NaN"
      ]
     },
     "execution_count": 4,
     "metadata": {},
     "output_type": "execute_result"
    }
   ],
   "source": [
    "data_1.tail(5)"
   ]
  },
  {
   "cell_type": "code",
   "execution_count": 5,
   "metadata": {},
   "outputs": [
    {
     "name": "stdout",
     "output_type": "stream",
     "text": [
      "<class 'pandas.core.frame.DataFrame'>\n",
      "RangeIndex: 562 entries, 0 to 561\n",
      "Data columns (total 2 columns):\n",
      " #   Column  Non-Null Count  Dtype  \n",
      "---  ------  --------------  -----  \n",
      " 0   Date    561 non-null    object \n",
      " 1   PRIZE   512 non-null    float64\n",
      "dtypes: float64(1), object(1)\n",
      "memory usage: 8.9+ KB\n"
     ]
    }
   ],
   "source": [
    "data_1.info()"
   ]
  },
  {
   "cell_type": "code",
   "execution_count": 6,
   "metadata": {},
   "outputs": [
    {
     "data": {
      "text/plain": [
       "Date      1\n",
       "PRIZE    50\n",
       "dtype: int64"
      ]
     },
     "execution_count": 6,
     "metadata": {},
     "output_type": "execute_result"
    }
   ],
   "source": [
    "data_1.isna().sum()"
   ]
  },
  {
   "cell_type": "code",
   "execution_count": 7,
   "metadata": {},
   "outputs": [
    {
     "data": {
      "text/html": [
       "<div>\n",
       "<style scoped>\n",
       "    .dataframe tbody tr th:only-of-type {\n",
       "        vertical-align: middle;\n",
       "    }\n",
       "\n",
       "    .dataframe tbody tr th {\n",
       "        vertical-align: top;\n",
       "    }\n",
       "\n",
       "    .dataframe thead th {\n",
       "        text-align: right;\n",
       "    }\n",
       "</style>\n",
       "<table border=\"1\" class=\"dataframe\">\n",
       "  <thead>\n",
       "    <tr style=\"text-align: right;\">\n",
       "      <th></th>\n",
       "      <th>Date</th>\n",
       "      <th>PRIZE</th>\n",
       "    </tr>\n",
       "  </thead>\n",
       "  <tbody>\n",
       "    <tr>\n",
       "      <th>0</th>\n",
       "      <td>Oct-1973</td>\n",
       "      <td>7.46</td>\n",
       "    </tr>\n",
       "    <tr>\n",
       "      <th>1</th>\n",
       "      <td>Nov-1973</td>\n",
       "      <td>9.01</td>\n",
       "    </tr>\n",
       "    <tr>\n",
       "      <th>2</th>\n",
       "      <td>Dec-1973</td>\n",
       "      <td>10.71</td>\n",
       "    </tr>\n",
       "    <tr>\n",
       "      <th>3</th>\n",
       "      <td>Jan-1974</td>\n",
       "      <td>13.67</td>\n",
       "    </tr>\n",
       "    <tr>\n",
       "      <th>4</th>\n",
       "      <td>Feb-1974</td>\n",
       "      <td>13.96</td>\n",
       "    </tr>\n",
       "    <tr>\n",
       "      <th>5</th>\n",
       "      <td>Mar-1974</td>\n",
       "      <td>14.36</td>\n",
       "    </tr>\n",
       "    <tr>\n",
       "      <th>6</th>\n",
       "      <td>Apr-1974</td>\n",
       "      <td>14.20</td>\n",
       "    </tr>\n",
       "    <tr>\n",
       "      <th>7</th>\n",
       "      <td>May-1974</td>\n",
       "      <td>14.02</td>\n",
       "    </tr>\n",
       "    <tr>\n",
       "      <th>8</th>\n",
       "      <td>Jun-1974</td>\n",
       "      <td>13.93</td>\n",
       "    </tr>\n",
       "    <tr>\n",
       "      <th>9</th>\n",
       "      <td>Jul-1974</td>\n",
       "      <td>12.87</td>\n",
       "    </tr>\n",
       "  </tbody>\n",
       "</table>\n",
       "</div>"
      ],
      "text/plain": [
       "       Date  PRIZE\n",
       "0  Oct-1973   7.46\n",
       "1  Nov-1973   9.01\n",
       "2  Dec-1973  10.71\n",
       "3  Jan-1974  13.67\n",
       "4  Feb-1974  13.96\n",
       "5  Mar-1974  14.36\n",
       "6  Apr-1974  14.20\n",
       "7  May-1974  14.02\n",
       "8  Jun-1974  13.93\n",
       "9  Jul-1974  12.87"
      ]
     },
     "execution_count": 7,
     "metadata": {},
     "output_type": "execute_result"
    }
   ],
   "source": [
    "data_1 = data_1.dropna()\n",
    "data_1.head(10)"
   ]
  },
  {
   "cell_type": "code",
   "execution_count": 8,
   "metadata": {},
   "outputs": [
    {
     "data": {
      "text/plain": [
       "Date     0\n",
       "PRIZE    0\n",
       "dtype: int64"
      ]
     },
     "execution_count": 8,
     "metadata": {},
     "output_type": "execute_result"
    }
   ],
   "source": [
    "data_1.isna().sum()"
   ]
  },
  {
   "cell_type": "code",
   "execution_count": 9,
   "metadata": {},
   "outputs": [
    {
     "data": {
      "text/plain": [
       "array(['Date', 'PRIZE'], dtype=object)"
      ]
     },
     "execution_count": 9,
     "metadata": {},
     "output_type": "execute_result"
    }
   ],
   "source": [
    "# convert columns to integers\n",
    "data_1.columns.values"
   ]
  },
  {
   "cell_type": "code",
   "execution_count": 10,
   "metadata": {},
   "outputs": [],
   "source": [
    "cols_1 = ['PRIZE']"
   ]
  },
  {
   "cell_type": "code",
   "execution_count": 11,
   "metadata": {},
   "outputs": [],
   "source": [
    "for columns in cols_1:\n",
    "    data_1[columns] = data_1[columns].astype(int)"
   ]
  },
  {
   "cell_type": "code",
   "execution_count": 12,
   "metadata": {},
   "outputs": [
    {
     "data": {
      "text/html": [
       "<div>\n",
       "<style scoped>\n",
       "    .dataframe tbody tr th:only-of-type {\n",
       "        vertical-align: middle;\n",
       "    }\n",
       "\n",
       "    .dataframe tbody tr th {\n",
       "        vertical-align: top;\n",
       "    }\n",
       "\n",
       "    .dataframe thead th {\n",
       "        text-align: right;\n",
       "    }\n",
       "</style>\n",
       "<table border=\"1\" class=\"dataframe\">\n",
       "  <thead>\n",
       "    <tr style=\"text-align: right;\">\n",
       "      <th></th>\n",
       "      <th>Date</th>\n",
       "      <th>PRIZE</th>\n",
       "    </tr>\n",
       "  </thead>\n",
       "  <tbody>\n",
       "    <tr>\n",
       "      <th>0</th>\n",
       "      <td>Oct-1973</td>\n",
       "      <td>7</td>\n",
       "    </tr>\n",
       "    <tr>\n",
       "      <th>1</th>\n",
       "      <td>Nov-1973</td>\n",
       "      <td>9</td>\n",
       "    </tr>\n",
       "    <tr>\n",
       "      <th>2</th>\n",
       "      <td>Dec-1973</td>\n",
       "      <td>10</td>\n",
       "    </tr>\n",
       "    <tr>\n",
       "      <th>3</th>\n",
       "      <td>Jan-1974</td>\n",
       "      <td>13</td>\n",
       "    </tr>\n",
       "    <tr>\n",
       "      <th>4</th>\n",
       "      <td>Feb-1974</td>\n",
       "      <td>13</td>\n",
       "    </tr>\n",
       "    <tr>\n",
       "      <th>5</th>\n",
       "      <td>Mar-1974</td>\n",
       "      <td>14</td>\n",
       "    </tr>\n",
       "    <tr>\n",
       "      <th>6</th>\n",
       "      <td>Apr-1974</td>\n",
       "      <td>14</td>\n",
       "    </tr>\n",
       "    <tr>\n",
       "      <th>7</th>\n",
       "      <td>May-1974</td>\n",
       "      <td>14</td>\n",
       "    </tr>\n",
       "    <tr>\n",
       "      <th>8</th>\n",
       "      <td>Jun-1974</td>\n",
       "      <td>13</td>\n",
       "    </tr>\n",
       "    <tr>\n",
       "      <th>9</th>\n",
       "      <td>Jul-1974</td>\n",
       "      <td>12</td>\n",
       "    </tr>\n",
       "  </tbody>\n",
       "</table>\n",
       "</div>"
      ],
      "text/plain": [
       "       Date  PRIZE\n",
       "0  Oct-1973      7\n",
       "1  Nov-1973      9\n",
       "2  Dec-1973     10\n",
       "3  Jan-1974     13\n",
       "4  Feb-1974     13\n",
       "5  Mar-1974     14\n",
       "6  Apr-1974     14\n",
       "7  May-1974     14\n",
       "8  Jun-1974     13\n",
       "9  Jul-1974     12"
      ]
     },
     "execution_count": 12,
     "metadata": {},
     "output_type": "execute_result"
    }
   ],
   "source": [
    "data_1.head(10)"
   ]
  },
  {
   "cell_type": "code",
   "execution_count": 13,
   "metadata": {},
   "outputs": [
    {
     "data": {
      "text/html": [
       "<div>\n",
       "<style scoped>\n",
       "    .dataframe tbody tr th:only-of-type {\n",
       "        vertical-align: middle;\n",
       "    }\n",
       "\n",
       "    .dataframe tbody tr th {\n",
       "        vertical-align: top;\n",
       "    }\n",
       "\n",
       "    .dataframe thead th {\n",
       "        text-align: right;\n",
       "    }\n",
       "</style>\n",
       "<table border=\"1\" class=\"dataframe\">\n",
       "  <thead>\n",
       "    <tr style=\"text-align: right;\">\n",
       "      <th></th>\n",
       "      <th>Date</th>\n",
       "      <th>PRIZE</th>\n",
       "    </tr>\n",
       "  </thead>\n",
       "  <tbody>\n",
       "    <tr>\n",
       "      <th>0</th>\n",
       "      <td>1973-10-01</td>\n",
       "      <td>7</td>\n",
       "    </tr>\n",
       "    <tr>\n",
       "      <th>1</th>\n",
       "      <td>1973-11-01</td>\n",
       "      <td>9</td>\n",
       "    </tr>\n",
       "    <tr>\n",
       "      <th>2</th>\n",
       "      <td>1973-12-01</td>\n",
       "      <td>10</td>\n",
       "    </tr>\n",
       "    <tr>\n",
       "      <th>3</th>\n",
       "      <td>1974-01-01</td>\n",
       "      <td>13</td>\n",
       "    </tr>\n",
       "    <tr>\n",
       "      <th>4</th>\n",
       "      <td>1974-02-01</td>\n",
       "      <td>13</td>\n",
       "    </tr>\n",
       "  </tbody>\n",
       "</table>\n",
       "</div>"
      ],
      "text/plain": [
       "        Date  PRIZE\n",
       "0 1973-10-01      7\n",
       "1 1973-11-01      9\n",
       "2 1973-12-01     10\n",
       "3 1974-01-01     13\n",
       "4 1974-02-01     13"
      ]
     },
     "execution_count": 13,
     "metadata": {},
     "output_type": "execute_result"
    }
   ],
   "source": [
    "# import datetime\n",
    "from datetime import datetime\n",
    "\n",
    "data_1.Date = pd.to_datetime(data_1.Date,dayfirst=True)\n",
    "data_1.head(5)"
   ]
  },
  {
   "cell_type": "code",
   "execution_count": 14,
   "metadata": {},
   "outputs": [
    {
     "name": "stdout",
     "output_type": "stream",
     "text": [
      "<class 'pandas.core.frame.DataFrame'>\n",
      "Int64Index: 512 entries, 0 to 558\n",
      "Data columns (total 2 columns):\n",
      " #   Column  Non-Null Count  Dtype         \n",
      "---  ------  --------------  -----         \n",
      " 0   Date    512 non-null    datetime64[ns]\n",
      " 1   PRIZE   512 non-null    int32         \n",
      "dtypes: datetime64[ns](1), int32(1)\n",
      "memory usage: 10.0 KB\n"
     ]
    }
   ],
   "source": [
    "data_1.info()"
   ]
  },
  {
   "cell_type": "code",
   "execution_count": 15,
   "metadata": {},
   "outputs": [],
   "source": [
    "data_1.set_index('Date',inplace = True)"
   ]
  },
  {
   "cell_type": "code",
   "execution_count": 16,
   "metadata": {},
   "outputs": [
    {
     "data": {
      "text/html": [
       "<div>\n",
       "<style scoped>\n",
       "    .dataframe tbody tr th:only-of-type {\n",
       "        vertical-align: middle;\n",
       "    }\n",
       "\n",
       "    .dataframe tbody tr th {\n",
       "        vertical-align: top;\n",
       "    }\n",
       "\n",
       "    .dataframe thead th {\n",
       "        text-align: right;\n",
       "    }\n",
       "</style>\n",
       "<table border=\"1\" class=\"dataframe\">\n",
       "  <thead>\n",
       "    <tr style=\"text-align: right;\">\n",
       "      <th></th>\n",
       "      <th>PRIZE</th>\n",
       "    </tr>\n",
       "    <tr>\n",
       "      <th>Date</th>\n",
       "      <th></th>\n",
       "    </tr>\n",
       "  </thead>\n",
       "  <tbody>\n",
       "    <tr>\n",
       "      <th>1973-10-01</th>\n",
       "      <td>7</td>\n",
       "    </tr>\n",
       "    <tr>\n",
       "      <th>1973-11-01</th>\n",
       "      <td>9</td>\n",
       "    </tr>\n",
       "    <tr>\n",
       "      <th>1973-12-01</th>\n",
       "      <td>10</td>\n",
       "    </tr>\n",
       "    <tr>\n",
       "      <th>1974-01-01</th>\n",
       "      <td>13</td>\n",
       "    </tr>\n",
       "    <tr>\n",
       "      <th>1974-02-01</th>\n",
       "      <td>13</td>\n",
       "    </tr>\n",
       "  </tbody>\n",
       "</table>\n",
       "</div>"
      ],
      "text/plain": [
       "            PRIZE\n",
       "Date             \n",
       "1973-10-01      7\n",
       "1973-11-01      9\n",
       "1973-12-01     10\n",
       "1974-01-01     13\n",
       "1974-02-01     13"
      ]
     },
     "execution_count": 16,
     "metadata": {},
     "output_type": "execute_result"
    }
   ],
   "source": [
    "data_1.head(5)"
   ]
  },
  {
   "cell_type": "code",
   "execution_count": 17,
   "metadata": {},
   "outputs": [
    {
     "data": {
      "text/plain": [
       "(512, 1)"
      ]
     },
     "execution_count": 17,
     "metadata": {},
     "output_type": "execute_result"
    }
   ],
   "source": [
    "data_1.shape"
   ]
  },
  {
   "cell_type": "code",
   "execution_count": 18,
   "metadata": {},
   "outputs": [],
   "source": [
    "# save a copy of th data to be used for RNN\n",
    "\n",
    "data_rnn = data_1.copy()"
   ]
  },
  {
   "cell_type": "markdown",
   "metadata": {},
   "source": [
    "# The line plot will be used to view the Crude oil prize over this past years"
   ]
  },
  {
   "cell_type": "code",
   "execution_count": 19,
   "metadata": {},
   "outputs": [
    {
     "data": {
      "image/png": "[encoded data removed]",
      "text/plain": [
       "<Figure size 1080x504 with 1 Axes>"
      ]
     },
     "metadata": {},
     "output_type": "display_data"
    }
   ],
   "source": [
    "data_1.PRIZE.plot(figsize=(15,7), title = \"Crude Oil Prize\")\n",
    "plt.show()"
   ]
  },
  {
   "cell_type": "code",
   "execution_count": 20,
   "metadata": {},
   "outputs": [],
   "source": [
    "# set the frequency\n",
    "# M representing data was only collected on monthly basics\n",
    "data_new =data_1.asfreq('MS')"
   ]
  },
  {
   "cell_type": "code",
   "execution_count": 21,
   "metadata": {},
   "outputs": [
    {
     "data": {
      "text/plain": [
       "PRIZE    55\n",
       "dtype: int64"
      ]
     },
     "execution_count": 21,
     "metadata": {},
     "output_type": "execute_result"
    }
   ],
   "source": [
    "data_new.isna().sum()"
   ]
  },
  {
   "cell_type": "code",
   "execution_count": 22,
   "metadata": {},
   "outputs": [],
   "source": [
    "data_new = data_new.fillna(value=data_1.mean())"
   ]
  },
  {
   "cell_type": "code",
   "execution_count": 23,
   "metadata": {},
   "outputs": [
    {
     "data": {
      "text/plain": [
       "PRIZE    0\n",
       "dtype: int64"
      ]
     },
     "execution_count": 23,
     "metadata": {},
     "output_type": "execute_result"
    }
   ],
   "source": [
    "data_new.isna().sum()"
   ]
  },
  {
   "cell_type": "code",
   "execution_count": 24,
   "metadata": {},
   "outputs": [
    {
     "data": {
      "image/png": "[encoded data removed]",
      "text/plain": [
       "<Figure size 1080x504 with 1 Axes>"
      ]
     },
     "metadata": {},
     "output_type": "display_data"
    }
   ],
   "source": [
    "data_new.PRIZE.plot(figsize=(15,7), title = \"Crude Oil Prize\")\n",
    "plt.show()"
   ]
  },
  {
   "cell_type": "code",
   "execution_count": 25,
   "metadata": {},
   "outputs": [
    {
     "data": {
      "text/html": [
       "<div>\n",
       "<style scoped>\n",
       "    .dataframe tbody tr th:only-of-type {\n",
       "        vertical-align: middle;\n",
       "    }\n",
       "\n",
       "    .dataframe tbody tr th {\n",
       "        vertical-align: top;\n",
       "    }\n",
       "\n",
       "    .dataframe thead th {\n",
       "        text-align: right;\n",
       "    }\n",
       "</style>\n",
       "<table border=\"1\" class=\"dataframe\">\n",
       "  <thead>\n",
       "    <tr style=\"text-align: right;\">\n",
       "      <th></th>\n",
       "      <th>PRIZE</th>\n",
       "    </tr>\n",
       "    <tr>\n",
       "      <th>Date</th>\n",
       "      <th></th>\n",
       "    </tr>\n",
       "  </thead>\n",
       "  <tbody>\n",
       "    <tr>\n",
       "      <th>1973-10-01</th>\n",
       "      <td>7.0</td>\n",
       "    </tr>\n",
       "    <tr>\n",
       "      <th>1973-11-01</th>\n",
       "      <td>9.0</td>\n",
       "    </tr>\n",
       "    <tr>\n",
       "      <th>1973-12-01</th>\n",
       "      <td>10.0</td>\n",
       "    </tr>\n",
       "    <tr>\n",
       "      <th>1974-01-01</th>\n",
       "      <td>13.0</td>\n",
       "    </tr>\n",
       "    <tr>\n",
       "      <th>1974-02-01</th>\n",
       "      <td>13.0</td>\n",
       "    </tr>\n",
       "  </tbody>\n",
       "</table>\n",
       "</div>"
      ],
      "text/plain": [
       "            PRIZE\n",
       "Date             \n",
       "1973-10-01    7.0\n",
       "1973-11-01    9.0\n",
       "1973-12-01   10.0\n",
       "1974-01-01   13.0\n",
       "1974-02-01   13.0"
      ]
     },
     "execution_count": 25,
     "metadata": {},
     "output_type": "execute_result"
    }
   ],
   "source": [
    "data_new.head(5)"
   ]
  },
  {
   "cell_type": "markdown",
   "metadata": {},
   "source": [
    "# inspect the data to test for stationarity ie using the  equation method\n"
   ]
  },
  {
   "cell_type": "markdown",
   "metadata": {},
   "source": [
    "# Every indication from plot shows that the time series is not stationaries but this will be supported using The DICKEY - FULLER TEST\n",
    "## In order to interprete the statistics , we will observe the assumption made by :\n",
    "\n",
    "## If test Statisics is < Critical value = Stationarity\n",
    "## the p_value must also be statistically significant ie < 0.05\n"
   ]
  },
  {
   "cell_type": "code",
   "execution_count": 26,
   "metadata": {},
   "outputs": [
    {
     "data": {
      "text/plain": [
       "(-2.4477389652231594,\n",
       " 0.128713084768605,\n",
       " 3,\n",
       " 563,\n",
       " {'1%': -3.4420185006698127,\n",
       "  '5%': -2.8666873299250253,\n",
       "  '10%': -2.5695113665058726},\n",
       " 3732.692583797599)"
      ]
     },
     "execution_count": 26,
     "metadata": {},
     "output_type": "execute_result"
    }
   ],
   "source": [
    "import statsmodels.tsa.stattools as sts \n",
    "\n",
    "sts.adfuller(data_new.PRIZE)"
   ]
  },
  {
   "cell_type": "markdown",
   "metadata": {},
   "source": [
    "# the result shows that data_new.PRIZE is not stationarized ie p_value is >0.05"
   ]
  },
  {
   "cell_type": "markdown",
   "metadata": {},
   "source": [
    "# further effort will be made to inspect if seasonal non-stationality is observed using the Naive method"
   ]
  },
  {
   "cell_type": "code",
   "execution_count": 27,
   "metadata": {},
   "outputs": [
    {
     "data": {
      "image/png": "[encoded data removed]",
      "text/plain": [
       "<Figure size 576x396 with 4 Axes>"
      ]
     },
     "metadata": {},
     "output_type": "display_data"
    },
    {
     "data": {
      "text/plain": [
       "<Figure size 2880x1296 with 0 Axes>"
      ]
     },
     "metadata": {},
     "output_type": "display_data"
    }
   ],
   "source": [
    "# To Test for Seasonality using Naive method  ie Additive and Multiplicative\n",
    "\n",
    "from statsmodels.tsa.seasonal import seasonal_decompose\n",
    "\n",
    "seasonal_decompose_additive_PRIZE= seasonal_decompose( data_new.PRIZE,model=\"additive\", period=1)\n",
    "seasonal_decompose_additive_PRIZE.plot()\n",
    "plt.figure(figsize=(40,18))\n",
    "plt.show()"
   ]
  },
  {
   "cell_type": "code",
   "execution_count": 28,
   "metadata": {},
   "outputs": [
    {
     "data": {
      "image/png": "[encoded data removed]",
      "text/plain": [
       "<Figure size 576x396 with 4 Axes>"
      ]
     },
     "metadata": {},
     "output_type": "display_data"
    },
    {
     "data": {
      "text/plain": [
       "<Figure size 2880x720 with 0 Axes>"
      ]
     },
     "metadata": {},
     "output_type": "display_data"
    }
   ],
   "source": [
    "# To Test for Seasonality using Naive method   Multiplicative\n",
    "seasonal_decompose_multiplicative_PRIZE_multiplicative= seasonal_decompose(data_new.PRIZE,model=\"multiplicative\", period=1)\n",
    "seasonal_decompose_multiplicative_PRIZE_multiplicative.plot()\n",
    "plt.figure(figsize=(40,10))\n",
    "plt.show()"
   ]
  },
  {
   "cell_type": "markdown",
   "metadata": {},
   "source": [
    "# data_new.PRIZE is not a seasonal non-stationalized data and so normal ARIMA method can easily be employed after making the data stationarired\n",
    "\n",
    "# TO make the data to be stationarized using the differencing approach"
   ]
  },
  {
   "cell_type": "code",
   "execution_count": 29,
   "metadata": {},
   "outputs": [],
   "source": [
    "\n",
    "data_new['int_PRIZE'] = data_new.PRIZE.diff(1)"
   ]
  },
  {
   "cell_type": "code",
   "execution_count": 30,
   "metadata": {},
   "outputs": [
    {
     "data": {
      "text/html": [
       "<div>\n",
       "<style scoped>\n",
       "    .dataframe tbody tr th:only-of-type {\n",
       "        vertical-align: middle;\n",
       "    }\n",
       "\n",
       "    .dataframe tbody tr th {\n",
       "        vertical-align: top;\n",
       "    }\n",
       "\n",
       "    .dataframe thead th {\n",
       "        text-align: right;\n",
       "    }\n",
       "</style>\n",
       "<table border=\"1\" class=\"dataframe\">\n",
       "  <thead>\n",
       "    <tr style=\"text-align: right;\">\n",
       "      <th></th>\n",
       "      <th>PRIZE</th>\n",
       "      <th>int_PRIZE</th>\n",
       "    </tr>\n",
       "    <tr>\n",
       "      <th>Date</th>\n",
       "      <th></th>\n",
       "      <th></th>\n",
       "    </tr>\n",
       "  </thead>\n",
       "  <tbody>\n",
       "    <tr>\n",
       "      <th>1973-10-01</th>\n",
       "      <td>7.0</td>\n",
       "      <td>NaN</td>\n",
       "    </tr>\n",
       "    <tr>\n",
       "      <th>1973-11-01</th>\n",
       "      <td>9.0</td>\n",
       "      <td>2.0</td>\n",
       "    </tr>\n",
       "    <tr>\n",
       "      <th>1973-12-01</th>\n",
       "      <td>10.0</td>\n",
       "      <td>1.0</td>\n",
       "    </tr>\n",
       "    <tr>\n",
       "      <th>1974-01-01</th>\n",
       "      <td>13.0</td>\n",
       "      <td>3.0</td>\n",
       "    </tr>\n",
       "    <tr>\n",
       "      <th>1974-02-01</th>\n",
       "      <td>13.0</td>\n",
       "      <td>0.0</td>\n",
       "    </tr>\n",
       "  </tbody>\n",
       "</table>\n",
       "</div>"
      ],
      "text/plain": [
       "            PRIZE  int_PRIZE\n",
       "Date                        \n",
       "1973-10-01    7.0        NaN\n",
       "1973-11-01    9.0        2.0\n",
       "1973-12-01   10.0        1.0\n",
       "1974-01-01   13.0        3.0\n",
       "1974-02-01   13.0        0.0"
      ]
     },
     "execution_count": 30,
     "metadata": {},
     "output_type": "execute_result"
    }
   ],
   "source": [
    "data_new.head(5)"
   ]
  },
  {
   "cell_type": "code",
   "execution_count": 31,
   "metadata": {},
   "outputs": [
    {
     "data": {
      "text/plain": [
       "(-14.575968516493935,\n",
       " 4.54850442161778e-27,\n",
       " 2,\n",
       " 564,\n",
       " {'1%': -3.4419977165341673,\n",
       "  '5%': -2.866678179017994,\n",
       "  '10%': -2.5695064902419396},\n",
       " 3736.7363102456256)"
      ]
     },
     "execution_count": 31,
     "metadata": {},
     "output_type": "execute_result"
    }
   ],
   "source": [
    "data_new.int_PRIZE[np.isnan(data_new.int_PRIZE)] = 0\n",
    "data_new.int_PRIZE[np.isinf(data_new.int_PRIZE)] = 0\n",
    "\n",
    "sts.adfuller(data_new.int_PRIZE)"
   ]
  },
  {
   "cell_type": "markdown",
   "metadata": {},
   "source": [
    "# Using differencing approach has stationarized the data as test statistics is now less than the critical condition ie -14.5759 is less than 1%,5% and 10% results \n",
    "\n",
    "# Secondly the pvalue is now less than 0.05"
   ]
  },
  {
   "cell_type": "code",
   "execution_count": 32,
   "metadata": {},
   "outputs": [
    {
     "data": {
      "text/html": [
       "<div>\n",
       "<style scoped>\n",
       "    .dataframe tbody tr th:only-of-type {\n",
       "        vertical-align: middle;\n",
       "    }\n",
       "\n",
       "    .dataframe tbody tr th {\n",
       "        vertical-align: top;\n",
       "    }\n",
       "\n",
       "    .dataframe thead th {\n",
       "        text-align: right;\n",
       "    }\n",
       "</style>\n",
       "<table border=\"1\" class=\"dataframe\">\n",
       "  <thead>\n",
       "    <tr style=\"text-align: right;\">\n",
       "      <th></th>\n",
       "      <th>PRIZE</th>\n",
       "      <th>int_PRIZE</th>\n",
       "    </tr>\n",
       "    <tr>\n",
       "      <th>Date</th>\n",
       "      <th></th>\n",
       "      <th></th>\n",
       "    </tr>\n",
       "  </thead>\n",
       "  <tbody>\n",
       "    <tr>\n",
       "      <th>1973-11-01</th>\n",
       "      <td>9.0</td>\n",
       "      <td>2.0</td>\n",
       "    </tr>\n",
       "    <tr>\n",
       "      <th>1973-12-01</th>\n",
       "      <td>10.0</td>\n",
       "      <td>1.0</td>\n",
       "    </tr>\n",
       "    <tr>\n",
       "      <th>1974-01-01</th>\n",
       "      <td>13.0</td>\n",
       "      <td>3.0</td>\n",
       "    </tr>\n",
       "    <tr>\n",
       "      <th>1974-02-01</th>\n",
       "      <td>13.0</td>\n",
       "      <td>0.0</td>\n",
       "    </tr>\n",
       "    <tr>\n",
       "      <th>1974-03-01</th>\n",
       "      <td>14.0</td>\n",
       "      <td>1.0</td>\n",
       "    </tr>\n",
       "  </tbody>\n",
       "</table>\n",
       "</div>"
      ],
      "text/plain": [
       "            PRIZE  int_PRIZE\n",
       "Date                        \n",
       "1973-11-01    9.0        2.0\n",
       "1973-12-01   10.0        1.0\n",
       "1974-01-01   13.0        3.0\n",
       "1974-02-01   13.0        0.0\n",
       "1974-03-01   14.0        1.0"
      ]
     },
     "execution_count": 32,
     "metadata": {},
     "output_type": "execute_result"
    }
   ],
   "source": [
    "data_new = data_new.iloc[1:]\n",
    "data_new.head(5)"
   ]
  },
  {
   "cell_type": "markdown",
   "metadata": {},
   "source": [
    "# Plot of the stationarieised crude oil prize"
   ]
  },
  {
   "cell_type": "code",
   "execution_count": 33,
   "metadata": {},
   "outputs": [
    {
     "data": {
      "image/png": "[encoded data removed]",
      "text/plain": [
       "<Figure size 1080x504 with 1 Axes>"
      ]
     },
     "metadata": {},
     "output_type": "display_data"
    }
   ],
   "source": [
    "data_new.int_PRIZE.plot(figsize=(15,7), title = \"Crude Oil Prize\")\n",
    "plt.show()"
   ]
  },
  {
   "cell_type": "markdown",
   "metadata": {},
   "source": [
    "# Now to select best model that defines the series\n",
    "# Next will be to select best ARIMA Model that fits the series, We are going to follow the rules to confirm if ARIMA is satisfied\n",
    "# And use Auto_ARIMA TO Select each best lag\n",
    "\n",
    "# AR = ACF (Spikes decay towards zero)  &  PACF (Spike cut off to zero)\n",
    "# MA= PACF (Spikes decay towards zero)  &  ACF (Spike cut off to zero)\n",
    "# ARIMA = PACF (Spikes decay towards zero) & ACF (Spikes decay towards zero)"
   ]
  },
  {
   "cell_type": "code",
   "execution_count": 34,
   "metadata": {},
   "outputs": [
    {
     "data": {
      "image/png": "[encoded data removed]",
      "text/plain": [
       "<Figure size 576x396 with 1 Axes>"
      ]
     },
     "metadata": {},
     "output_type": "display_data"
    }
   ],
   "source": [
    "## ACF and PACF \n",
    "from statsmodels.graphics.tsaplots import plot_acf, plot_pacf\n",
    "import statsmodels.graphics.tsaplots as sgt\n",
    "\n",
    "sgt.plot_acf(data_new.int_PRIZE, zero = False, lags = 40)\n",
    "plt.title(\"ACF for Integerated PRIZE \", size=24)\n",
    "plt.show()"
   ]
  },
  {
   "cell_type": "code",
   "execution_count": 35,
   "metadata": {},
   "outputs": [
    {
     "data": {
      "image/png": "[encoded data removed]",
      "text/plain": [
       "<Figure size 576x396 with 1 Axes>"
      ]
     },
     "metadata": {},
     "output_type": "display_data"
    }
   ],
   "source": [
    "sgt.plot_pacf(data_new.int_PRIZE, lags = 40, alpha = 0.05, zero = False , method = ('ols'))\n",
    "plt.title(\"Partial Autocorrelation Function for Integerated PRIZE\",size=20)\n",
    "plt.show()"
   ]
  },
  {
   "cell_type": "markdown",
   "metadata": {},
   "source": [
    "# both ACF and PACF Shows same pattern indicating data is now stationarized and that ARIMA MODEL is situable\n",
    "\n",
    "## Next will be t0 use the auto arima approach in selecting best lap time"
   ]
  },
  {
   "cell_type": "code",
   "execution_count": 36,
   "metadata": {},
   "outputs": [],
   "source": [
    "from pmdarima.arima import auto_arima  \n",
    "from pmdarima.arima import OCSBTest \n",
    "\n",
    "# I am going to be using the Akaike information criterion(AIC) as a matrix to compare the performance of various ARIMA based models"
   ]
  },
  {
   "cell_type": "code",
   "execution_count": 37,
   "metadata": {},
   "outputs": [
    {
     "name": "stdout",
     "output_type": "stream",
     "text": [
      "Performing stepwise search to minimize aic\n",
      " ARIMA(0,0,0)(0,0,0)[0]             : AIC=3898.232, Time=0.01 sec\n",
      " ARIMA(1,0,0)(0,0,0)[0]             : AIC=3877.569, Time=0.02 sec\n",
      " ARIMA(0,0,1)(0,0,0)[0]             : AIC=3867.865, Time=0.04 sec\n",
      " ARIMA(1,0,1)(0,0,0)[0]             : AIC=3867.887, Time=0.05 sec\n",
      " ARIMA(0,0,2)(0,0,0)[0]             : AIC=3864.220, Time=0.07 sec\n",
      " ARIMA(1,0,2)(0,0,0)[0]             : AIC=3853.205, Time=0.07 sec\n",
      " ARIMA(2,0,2)(0,0,0)[0]             : AIC=3849.519, Time=0.10 sec\n",
      " ARIMA(2,0,1)(0,0,0)[0]             : AIC=3847.652, Time=0.09 sec\n",
      " ARIMA(2,0,0)(0,0,0)[0]             : AIC=3853.119, Time=0.05 sec\n",
      " ARIMA(3,0,1)(0,0,0)[0]             : AIC=3849.417, Time=0.16 sec\n",
      " ARIMA(3,0,0)(0,0,0)[0]             : AIC=3847.686, Time=0.06 sec\n",
      " ARIMA(3,0,2)(0,0,0)[0]             : AIC=inf, Time=0.38 sec\n",
      " ARIMA(2,0,1)(0,0,0)[0] intercept   : AIC=3849.543, Time=0.18 sec\n",
      "\n",
      "Best model:  ARIMA(2,0,1)(0,0,0)[0]          \n",
      "Total fit time: 1.302 seconds\n"
     ]
    }
   ],
   "source": [
    " model_returns_PRIZE  = auto_arima (data_new.int_PRIZE,start_p = 0, start_q = 0,max_p =5, max_q = 5, seasonal= False,trace = True )"
   ]
  },
  {
   "cell_type": "markdown",
   "metadata": {},
   "source": [
    "# The suitable  lag time for PRIZE ie (ARIMA(2,0,1)) decision based on the AIC Approach"
   ]
  },
  {
   "cell_type": "code",
   "execution_count": 38,
   "metadata": {},
   "outputs": [],
   "source": [
    "import warnings\n",
    "warnings.filterwarnings('ignore', 'statsmodels.tsa.arima_model.ARMA',\n",
    "                        FutureWarning)\n",
    "warnings.filterwarnings('ignore', 'statsmodels.tsa.arima_model.ARIMA',\n",
    "                        FutureWarning)"
   ]
  },
  {
   "cell_type": "code",
   "execution_count": 39,
   "metadata": {},
   "outputs": [
    {
     "name": "stderr",
     "output_type": "stream",
     "text": [
      "C:\\Users\\Henry\\anaconda3\\lib\\site-packages\\statsmodels\\tsa\\arima_model.py:472: FutureWarning: \n",
      "statsmodels.tsa.arima_model.ARMA and statsmodels.tsa.arima_model.ARIMA have\n",
      "been deprecated in favor of statsmodels.tsa.arima.model.ARIMA (note the .\n",
      "between arima and model) and\n",
      "statsmodels.tsa.SARIMAX. These will be removed after the 0.12 release.\n",
      "\n",
      "statsmodels.tsa.arima.model.ARIMA makes use of the statespace framework and\n",
      "is both well tested and maintained.\n",
      "\n",
      "To silence this warning and continue using ARMA and ARIMA until they are\n",
      "removed, use:\n",
      "\n",
      "import warnings\n",
      "warnings.filterwarnings('ignore', 'statsmodels.tsa.arima_model.ARMA',\n",
      "                        FutureWarning)\n",
      "warnings.filterwarnings('ignore', 'statsmodels.tsa.arima_model.ARIMA',\n",
      "                        FutureWarning)\n",
      "\n",
      "  warnings.warn(ARIMA_DEPRECATION_WARN, FutureWarning)\n"
     ]
    }
   ],
   "source": [
    "from statsmodels.tsa.arima_model import ARIMA\n",
    "# Models for PRIZE\n",
    "\n",
    "model_int_PRIZE = ARIMA(data_new.int_PRIZE, order=(2,0,1))\n",
    "results_int_PRIZE = model_int_PRIZE.fit()"
   ]
  },
  {
   "cell_type": "code",
   "execution_count": 40,
   "metadata": {},
   "outputs": [
    {
     "data": {
      "text/plain": [
       "(566, 2)"
      ]
     },
     "execution_count": 40,
     "metadata": {},
     "output_type": "execute_result"
    }
   ],
   "source": [
    "data_new.shape"
   ]
  },
  {
   "cell_type": "code",
   "execution_count": 41,
   "metadata": {},
   "outputs": [],
   "source": [
    "# Now am gonna divide the data into train and test\n",
    "\n",
    "nobs =20\n",
    "train,test =data_new[0:-nobs],data_new[-nobs: ]"
   ]
  },
  {
   "cell_type": "code",
   "execution_count": 42,
   "metadata": {},
   "outputs": [
    {
     "data": {
      "text/plain": [
       "((546, 2), (20, 2))"
      ]
     },
     "execution_count": 42,
     "metadata": {},
     "output_type": "execute_result"
    }
   ],
   "source": [
    "train.shape,test.shape"
   ]
  },
  {
   "cell_type": "code",
   "execution_count": 43,
   "metadata": {},
   "outputs": [
    {
     "data": {
      "text/html": [
       "<div>\n",
       "<style scoped>\n",
       "    .dataframe tbody tr th:only-of-type {\n",
       "        vertical-align: middle;\n",
       "    }\n",
       "\n",
       "    .dataframe tbody tr th {\n",
       "        vertical-align: top;\n",
       "    }\n",
       "\n",
       "    .dataframe thead th {\n",
       "        text-align: right;\n",
       "    }\n",
       "</style>\n",
       "<table border=\"1\" class=\"dataframe\">\n",
       "  <thead>\n",
       "    <tr style=\"text-align: right;\">\n",
       "      <th></th>\n",
       "      <th>PRIZE</th>\n",
       "      <th>int_PRIZE</th>\n",
       "    </tr>\n",
       "    <tr>\n",
       "      <th>Date</th>\n",
       "      <th></th>\n",
       "      <th></th>\n",
       "    </tr>\n",
       "  </thead>\n",
       "  <tbody>\n",
       "    <tr>\n",
       "      <th>2019-02-01</th>\n",
       "      <td>38.208984</td>\n",
       "      <td>0.000000</td>\n",
       "    </tr>\n",
       "    <tr>\n",
       "      <th>2019-03-01</th>\n",
       "      <td>38.208984</td>\n",
       "      <td>0.000000</td>\n",
       "    </tr>\n",
       "    <tr>\n",
       "      <th>2019-04-01</th>\n",
       "      <td>75.000000</td>\n",
       "      <td>36.791016</td>\n",
       "    </tr>\n",
       "  </tbody>\n",
       "</table>\n",
       "</div>"
      ],
      "text/plain": [
       "                PRIZE  int_PRIZE\n",
       "Date                            \n",
       "2019-02-01  38.208984   0.000000\n",
       "2019-03-01  38.208984   0.000000\n",
       "2019-04-01  75.000000  36.791016"
      ]
     },
     "execution_count": 43,
     "metadata": {},
     "output_type": "execute_result"
    }
   ],
   "source": [
    "train.tail(3)"
   ]
  },
  {
   "cell_type": "code",
   "execution_count": 44,
   "metadata": {},
   "outputs": [
    {
     "data": {
      "text/html": [
       "<div>\n",
       "<style scoped>\n",
       "    .dataframe tbody tr th:only-of-type {\n",
       "        vertical-align: middle;\n",
       "    }\n",
       "\n",
       "    .dataframe tbody tr th {\n",
       "        vertical-align: top;\n",
       "    }\n",
       "\n",
       "    .dataframe thead th {\n",
       "        text-align: right;\n",
       "    }\n",
       "</style>\n",
       "<table border=\"1\" class=\"dataframe\">\n",
       "  <thead>\n",
       "    <tr style=\"text-align: right;\">\n",
       "      <th></th>\n",
       "      <th>PRIZE</th>\n",
       "      <th>int_PRIZE</th>\n",
       "    </tr>\n",
       "    <tr>\n",
       "      <th>Date</th>\n",
       "      <th></th>\n",
       "      <th></th>\n",
       "    </tr>\n",
       "  </thead>\n",
       "  <tbody>\n",
       "    <tr>\n",
       "      <th>2019-05-01</th>\n",
       "      <td>72.0</td>\n",
       "      <td>-3.0</td>\n",
       "    </tr>\n",
       "    <tr>\n",
       "      <th>2019-06-01</th>\n",
       "      <td>69.0</td>\n",
       "      <td>-3.0</td>\n",
       "    </tr>\n",
       "    <tr>\n",
       "      <th>2019-07-01</th>\n",
       "      <td>67.0</td>\n",
       "      <td>-2.0</td>\n",
       "    </tr>\n",
       "  </tbody>\n",
       "</table>\n",
       "</div>"
      ],
      "text/plain": [
       "            PRIZE  int_PRIZE\n",
       "Date                        \n",
       "2019-05-01   72.0       -3.0\n",
       "2019-06-01   69.0       -3.0\n",
       "2019-07-01   67.0       -2.0"
      ]
     },
     "execution_count": 44,
     "metadata": {},
     "output_type": "execute_result"
    }
   ],
   "source": [
    "test.head(3)"
   ]
  },
  {
   "cell_type": "code",
   "execution_count": 45,
   "metadata": {},
   "outputs": [],
   "source": [
    "# for difference of price\n",
    "\n",
    "Start_int_prize = len(train.int_PRIZE)\n",
    "end_int_prize = len(train.int_PRIZE) + len(test.int_PRIZE)-1"
   ]
  },
  {
   "cell_type": "code",
   "execution_count": 46,
   "metadata": {},
   "outputs": [
    {
     "data": {
      "text/plain": [
       "<AxesSubplot:xlabel='Date'>"
      ]
     },
     "execution_count": 46,
     "metadata": {},
     "output_type": "execute_result"
    },
    {
     "data": {
      "image/png": "[encoded data removed]",
      "text/plain": [
       "<Figure size 1008x432 with 1 Axes>"
      ]
     },
     "metadata": {},
     "output_type": "display_data"
    }
   ],
   "source": [
    "predictions_int_prize = results_int_PRIZE.predict(Start_int_prize,end_int_prize).rename('Int_PRIZE MODEL')\n",
    "test.int_PRIZE.plot(legend=True,figsize =(14,6))\n",
    "predictions_int_prize.plot(legend=True)"
   ]
  },
  {
   "cell_type": "code",
   "execution_count": 47,
   "metadata": {},
   "outputs": [
    {
     "name": "stdout",
     "output_type": "stream",
     "text": [
      "9.643209963192819\n"
     ]
    }
   ],
   "source": [
    "from sklearn.metrics import r2_score\n",
    "from sklearn.metrics import mean_squared_error\n",
    "from math import sqrt\n",
    "\n",
    "\n",
    "print(np.sqrt(mean_squared_error(test.int_PRIZE,predictions_int_prize)))"
   ]
  },
  {
   "cell_type": "code",
   "execution_count": 48,
   "metadata": {},
   "outputs": [
    {
     "data": {
      "text/plain": [
       "Date\n",
       "2019-05-01   -7.206545\n",
       "2019-06-01   -7.047114\n",
       "2019-07-01    4.887047\n",
       "2019-08-01   -0.731734\n",
       "2019-09-01    1.510555\n",
       "2019-10-01   -0.150690\n",
       "2019-11-01    0.126936\n",
       "2019-12-01   -0.471962\n",
       "2020-01-01    5.782190\n",
       "2020-02-01    6.817829\n",
       "Freq: MS, Name: Int_PRIZE MODEL, dtype: float64"
      ]
     },
     "execution_count": 48,
     "metadata": {},
     "output_type": "execute_result"
    }
   ],
   "source": [
    "predictions_int_prize.head(10)"
   ]
  },
  {
   "cell_type": "code",
   "execution_count": 49,
   "metadata": {},
   "outputs": [
    {
     "data": {
      "text/plain": [
       "Date\n",
       "2019-05-01    -3.000000\n",
       "2019-06-01    -3.000000\n",
       "2019-07-01    -2.000000\n",
       "2019-08-01    -2.000000\n",
       "2019-09-01     1.000000\n",
       "2019-10-01    -1.000000\n",
       "2019-11-01     4.000000\n",
       "2019-12-01   -30.791016\n",
       "2020-01-01     0.000000\n",
       "2020-02-01    23.791016\n",
       "Freq: MS, Name: int_PRIZE, dtype: float64"
      ]
     },
     "execution_count": 49,
     "metadata": {},
     "output_type": "execute_result"
    }
   ],
   "source": [
    "test.int_PRIZE.head(10)"
   ]
  },
  {
   "cell_type": "code",
   "execution_count": 50,
   "metadata": {},
   "outputs": [
    {
     "name": "stdout",
     "output_type": "stream",
     "text": [
      "Requirement already satisfied: keras in c:\\users\\henry\\anaconda3\\lib\\site-packages (2.4.3)\n",
      "Requirement already satisfied: numpy>=1.9.1 in c:\\users\\henry\\anaconda3\\lib\\site-packages (from keras) (1.19.2)\n",
      "Requirement already satisfied: h5py in c:\\users\\henry\\anaconda3\\lib\\site-packages (from keras) (3.1.0)\n",
      "Requirement already satisfied: scipy>=0.14 in c:\\users\\henry\\anaconda3\\lib\\site-packages (from keras) (1.5.2)\n",
      "Requirement already satisfied: pyyaml in c:\\users\\henry\\anaconda3\\lib\\site-packages (from keras) (5.3.1)\n"
     ]
    }
   ],
   "source": [
    "import numpy as np\n",
    "from numpy.random import seed \n",
    "seed(1) \n",
    "import pandas as pd\n",
    "import tensorflow as tf\n",
    "!pip install keras\n",
    "from keras.models import Sequential\n",
    "from keras.layers import Dense\n",
    "from keras.callbacks import EarlyStopping\n",
    "import random \n",
    "\n",
    "# Setting the seed for numpy-generated random numbers\n",
    "np.random.seed(1234)\n",
    "\n",
    "import matplotlib.pyplot as plt \n",
    "import seaborn as sns\n",
    "sns.set()"
   ]
  },
  {
   "cell_type": "code",
   "execution_count": 51,
   "metadata": {},
   "outputs": [],
   "source": [
    "# by default Keras's model.compile() sets the shuffle argument as True. You should the set numpy seed before importing keras. e.g.:\n",
    "\n",
    "# import numpy as np\n",
    "# np.random.seed(1337) # for reproducibility"
   ]
  },
  {
   "cell_type": "code",
   "execution_count": 52,
   "metadata": {},
   "outputs": [
    {
     "data": {
      "text/html": [
       "<div>\n",
       "<style scoped>\n",
       "    .dataframe tbody tr th:only-of-type {\n",
       "        vertical-align: middle;\n",
       "    }\n",
       "\n",
       "    .dataframe tbody tr th {\n",
       "        vertical-align: top;\n",
       "    }\n",
       "\n",
       "    .dataframe thead th {\n",
       "        text-align: right;\n",
       "    }\n",
       "</style>\n",
       "<table border=\"1\" class=\"dataframe\">\n",
       "  <thead>\n",
       "    <tr style=\"text-align: right;\">\n",
       "      <th></th>\n",
       "      <th>PRIZE</th>\n",
       "    </tr>\n",
       "    <tr>\n",
       "      <th>Date</th>\n",
       "      <th></th>\n",
       "    </tr>\n",
       "  </thead>\n",
       "  <tbody>\n",
       "    <tr>\n",
       "      <th>1973-10-01</th>\n",
       "      <td>7</td>\n",
       "    </tr>\n",
       "    <tr>\n",
       "      <th>1973-11-01</th>\n",
       "      <td>9</td>\n",
       "    </tr>\n",
       "    <tr>\n",
       "      <th>1973-12-01</th>\n",
       "      <td>10</td>\n",
       "    </tr>\n",
       "    <tr>\n",
       "      <th>1974-01-01</th>\n",
       "      <td>13</td>\n",
       "    </tr>\n",
       "    <tr>\n",
       "      <th>1974-02-01</th>\n",
       "      <td>13</td>\n",
       "    </tr>\n",
       "    <tr>\n",
       "      <th>1974-03-01</th>\n",
       "      <td>14</td>\n",
       "    </tr>\n",
       "    <tr>\n",
       "      <th>1974-04-01</th>\n",
       "      <td>14</td>\n",
       "    </tr>\n",
       "    <tr>\n",
       "      <th>1974-05-01</th>\n",
       "      <td>14</td>\n",
       "    </tr>\n",
       "    <tr>\n",
       "      <th>1974-06-01</th>\n",
       "      <td>13</td>\n",
       "    </tr>\n",
       "    <tr>\n",
       "      <th>1974-07-01</th>\n",
       "      <td>12</td>\n",
       "    </tr>\n",
       "  </tbody>\n",
       "</table>\n",
       "</div>"
      ],
      "text/plain": [
       "            PRIZE\n",
       "Date             \n",
       "1973-10-01      7\n",
       "1973-11-01      9\n",
       "1973-12-01     10\n",
       "1974-01-01     13\n",
       "1974-02-01     13\n",
       "1974-03-01     14\n",
       "1974-04-01     14\n",
       "1974-05-01     14\n",
       "1974-06-01     13\n",
       "1974-07-01     12"
      ]
     },
     "execution_count": 52,
     "metadata": {},
     "output_type": "execute_result"
    }
   ],
   "source": [
    "# Data for RNN\n",
    "\n",
    "data_rnn.head(10)"
   ]
  },
  {
   "cell_type": "code",
   "execution_count": 53,
   "metadata": {},
   "outputs": [
    {
     "data": {
      "text/plain": [
       "<AxesSubplot:xlabel='Date'>"
      ]
     },
     "execution_count": 53,
     "metadata": {},
     "output_type": "execute_result"
    },
    {
     "data": {
      "image/png": "[encoded data removed]",
      "text/plain": [
       "<Figure size 864x576 with 1 Axes>"
      ]
     },
     "metadata": {},
     "output_type": "display_data"
    }
   ],
   "source": [
    "data_rnn.plot(figsize= (12,8))"
   ]
  },
  {
   "cell_type": "code",
   "execution_count": 54,
   "metadata": {},
   "outputs": [
    {
     "data": {
      "text/plain": [
       "512"
      ]
     },
     "execution_count": 54,
     "metadata": {},
     "output_type": "execute_result"
    }
   ],
   "source": [
    "len(data_rnn)"
   ]
  },
  {
   "cell_type": "code",
   "execution_count": 55,
   "metadata": {},
   "outputs": [],
   "source": [
    "train_len = len(data_rnn)-20"
   ]
  },
  {
   "cell_type": "code",
   "execution_count": 56,
   "metadata": {},
   "outputs": [],
   "source": [
    "train = data_rnn.iloc[:train_len]\n",
    "test=data_rnn.iloc[train_len:]"
   ]
  },
  {
   "cell_type": "code",
   "execution_count": 57,
   "metadata": {},
   "outputs": [
    {
     "data": {
      "text/plain": [
       "20"
      ]
     },
     "execution_count": 57,
     "metadata": {},
     "output_type": "execute_result"
    }
   ],
   "source": [
    "len(test)"
   ]
  },
  {
   "cell_type": "code",
   "execution_count": 58,
   "metadata": {},
   "outputs": [],
   "source": [
    "# TASK: Use a MinMaxScaler to scale the train and test sets into scaled versions.**\n",
    "\n",
    "# RNN uses weight and bias and so need to be of the same scale. minmaxscaler\n",
    "\n",
    "from sklearn.preprocessing import MinMaxScaler\n",
    "\n",
    "scaler = MinMaxScaler()"
   ]
  },
  {
   "cell_type": "code",
   "execution_count": 59,
   "metadata": {},
   "outputs": [
    {
     "data": {
      "text/plain": [
       "MinMaxScaler()"
      ]
     },
     "execution_count": 59,
     "metadata": {},
     "output_type": "execute_result"
    }
   ],
   "source": [
    "# IGNORE WARNING ITS JUST CONVERTING TO FLOATS\n",
    "# WE ONLY FIT TO TRAININ DATA, OTHERWISE WE ARE CHEATING ASSUMING INFO ABOUT TEST SET\n",
    "\n",
    "scaler.fit(train)"
   ]
  },
  {
   "cell_type": "code",
   "execution_count": 60,
   "metadata": {},
   "outputs": [],
   "source": [
    "scaled_train = scaler.transform(train)\n",
    "scaled_test = scaler.transform(test)"
   ]
  },
  {
   "cell_type": "code",
   "execution_count": 61,
   "metadata": {},
   "outputs": [],
   "source": [
    "# Time Series Generator\n",
    "\n",
    "# TASK: Create a TimeSeriesGenerator object based off the scaled_train data. The n_input is up to you, but at a minimum it should be at least 12.**\n",
    "\n",
    "from keras.preprocessing.sequence import TimeseriesGenerator"
   ]
  },
  {
   "cell_type": "code",
   "execution_count": 62,
   "metadata": {},
   "outputs": [],
   "source": [
    "n_input = 12\n",
    "n_features=1\n",
    "generator = TimeseriesGenerator(scaled_train, scaled_train, length=n_input, batch_size=1)"
   ]
  },
  {
   "cell_type": "code",
   "execution_count": 63,
   "metadata": {},
   "outputs": [
    {
     "data": {
      "text/plain": [
       "492"
      ]
     },
     "execution_count": 63,
     "metadata": {},
     "output_type": "execute_result"
    }
   ],
   "source": [
    "len(scaled_train)"
   ]
  },
  {
   "cell_type": "code",
   "execution_count": 64,
   "metadata": {},
   "outputs": [
    {
     "data": {
      "text/plain": [
       "20"
      ]
     },
     "execution_count": 64,
     "metadata": {},
     "output_type": "execute_result"
    }
   ],
   "source": [
    "len(scaled_test)"
   ]
  },
  {
   "cell_type": "code",
   "execution_count": 65,
   "metadata": {},
   "outputs": [
    {
     "data": {
      "text/plain": [
       "480"
      ]
     },
     "execution_count": 65,
     "metadata": {},
     "output_type": "execute_result"
    }
   ],
   "source": [
    "len(generator)"
   ]
  },
  {
   "cell_type": "code",
   "execution_count": 66,
   "metadata": {},
   "outputs": [
    {
     "data": {
      "text/plain": [
       "array([[0.        ],\n",
       "       [0.01481481],\n",
       "       [0.02222222],\n",
       "       [0.04444444],\n",
       "       [0.04444444],\n",
       "       [0.05185185],\n",
       "       [0.05185185],\n",
       "       [0.05185185],\n",
       "       [0.04444444],\n",
       "       [0.03703704],\n",
       "       [0.03703704],\n",
       "       [0.03703704],\n",
       "       [0.03703704],\n",
       "       [0.02962963],\n",
       "       [0.03703704],\n",
       "       [0.03703704],\n",
       "       [0.03703704],\n",
       "       [0.03703704],\n",
       "       [0.03703704],\n",
       "       [0.03703704],\n",
       "       [0.03703704],\n",
       "       [0.03703704],\n",
       "       [0.03703704],\n",
       "       [0.03703704],\n",
       "       [0.04444444],\n",
       "       [0.04444444],\n",
       "       [0.04444444],\n",
       "       [0.04444444],\n",
       "       [0.04444444],\n",
       "       [0.04444444],\n",
       "       [0.04444444],\n",
       "       [0.04444444],\n",
       "       [0.04444444],\n",
       "       [0.04444444],\n",
       "       [0.04444444],\n",
       "       [0.04444444],\n",
       "       [0.05185185],\n",
       "       [0.04444444],\n",
       "       [0.05185185],\n",
       "       [0.05185185],\n",
       "       [0.05925926],\n",
       "       [0.05925926],\n",
       "       [0.05925926],\n",
       "       [0.05925926],\n",
       "       [0.05925926],\n",
       "       [0.05925926],\n",
       "       [0.05925926],\n",
       "       [0.05925926],\n",
       "       [0.05925926],\n",
       "       [0.05925926],\n",
       "       [0.05925926],\n",
       "       [0.05185185],\n",
       "       [0.05185185],\n",
       "       [0.05185185],\n",
       "       [0.05185185],\n",
       "       [0.05185185],\n",
       "       [0.05185185],\n",
       "       [0.05185185],\n",
       "       [0.05185185],\n",
       "       [0.05185185],\n",
       "       [0.05925926],\n",
       "       [0.05925926],\n",
       "       [0.05925926],\n",
       "       [0.06666667],\n",
       "       [0.06666667],\n",
       "       [0.06666667],\n",
       "       [0.08888889],\n",
       "       [0.0962963 ],\n",
       "       [0.11851852],\n",
       "       [0.13333333],\n",
       "       [0.14074074],\n",
       "       [0.14814815],\n",
       "       [0.14074074],\n",
       "       [0.16296296],\n",
       "       [0.17777778],\n",
       "       [0.19259259],\n",
       "       [0.20740741],\n",
       "       [0.21481481],\n",
       "       [0.22222222],\n",
       "       [0.22222222],\n",
       "       [0.22962963],\n",
       "       [0.22962963],\n",
       "       [0.22222222],\n",
       "       [0.22222222],\n",
       "       [0.22222222],\n",
       "       [0.22222222],\n",
       "       [0.22962963],\n",
       "       [0.25185185],\n",
       "       [0.25185185],\n",
       "       [0.24444444],\n",
       "       [0.24444444],\n",
       "       [0.24444444],\n",
       "       [0.24444444],\n",
       "       [0.24444444],\n",
       "       [0.23703704],\n",
       "       [0.22222222],\n",
       "       [0.21481481],\n",
       "       [0.22222222],\n",
       "       [0.22222222],\n",
       "       [0.22222222],\n",
       "       [0.22222222],\n",
       "       [0.20740741],\n",
       "       [0.2       ],\n",
       "       [0.20740741],\n",
       "       [0.21481481],\n",
       "       [0.21481481],\n",
       "       [0.21481481],\n",
       "       [0.20740741],\n",
       "       [0.21481481],\n",
       "       [0.21481481],\n",
       "       [0.2       ],\n",
       "       [0.18518519],\n",
       "       [0.17037037],\n",
       "       [0.17037037],\n",
       "       [0.17037037],\n",
       "       [0.17037037],\n",
       "       [0.17037037],\n",
       "       [0.17777778],\n",
       "       [0.17037037],\n",
       "       [0.17777778],\n",
       "       [0.17777778],\n",
       "       [0.17037037],\n",
       "       [0.17037037],\n",
       "       [0.17777778],\n",
       "       [0.17037037],\n",
       "       [0.17777778],\n",
       "       [0.17037037],\n",
       "       [0.17037037],\n",
       "       [0.17037037],\n",
       "       [0.16296296],\n",
       "       [0.17037037],\n",
       "       [0.16296296],\n",
       "       [0.16296296],\n",
       "       [0.15555556],\n",
       "       [0.15555556],\n",
       "       [0.15555556],\n",
       "       [0.16296296],\n",
       "       [0.15555556],\n",
       "       [0.15555556],\n",
       "       [0.14814815],\n",
       "       [0.15555556],\n",
       "       [0.15555556],\n",
       "       [0.15555556],\n",
       "       [0.16296296],\n",
       "       [0.16296296],\n",
       "       [0.17037037],\n",
       "       [0.14814815],\n",
       "       [0.1037037 ],\n",
       "       [0.06666667],\n",
       "       [0.05925926],\n",
       "       [0.05185185],\n",
       "       [0.04444444],\n",
       "       [0.03703704],\n",
       "       [0.03703704],\n",
       "       [0.05185185],\n",
       "       [0.05185185],\n",
       "       [0.05185185],\n",
       "       [0.05925926],\n",
       "       [0.08148148],\n",
       "       [0.08148148],\n",
       "       [0.08148148],\n",
       "       [0.08148148],\n",
       "       [0.08888889],\n",
       "       [0.08888889],\n",
       "       [0.08888889],\n",
       "       [0.0962963 ],\n",
       "       [0.08888889],\n",
       "       [0.08888889],\n",
       "       [0.08888889],\n",
       "       [0.08148148],\n",
       "       [0.07407407],\n",
       "       [0.06666667],\n",
       "       [0.06666667],\n",
       "       [0.06666667],\n",
       "       [0.07407407],\n",
       "       [0.06666667],\n",
       "       [0.05925926],\n",
       "       [0.05925926],\n",
       "       [0.05185185],\n",
       "       [0.05185185],\n",
       "       [0.05185185],\n",
       "       [0.06666667],\n",
       "       [0.07407407],\n",
       "       [0.08148148],\n",
       "       [0.08888889],\n",
       "       [0.0962963 ],\n",
       "       [0.08888889],\n",
       "       [0.08148148],\n",
       "       [0.08148148],\n",
       "       [0.08148148],\n",
       "       [0.08148148],\n",
       "       [0.08888889],\n",
       "       [0.0962963 ],\n",
       "       [0.0962963 ],\n",
       "       [0.11111111],\n",
       "       [0.1037037 ],\n",
       "       [0.08888889],\n",
       "       [0.08148148],\n",
       "       [0.07407407],\n",
       "       [0.06666667],\n",
       "       [0.08148148],\n",
       "       [0.14074074],\n",
       "       [0.19259259],\n",
       "       [0.22222222],\n",
       "       [0.2       ],\n",
       "       [0.17037037],\n",
       "       [0.14074074],\n",
       "       [0.1037037 ],\n",
       "       [0.0962963 ],\n",
       "       [0.0962963 ],\n",
       "       [0.0962963 ],\n",
       "       [0.08888889],\n",
       "       [0.0962963 ],\n",
       "       [0.1037037 ],\n",
       "       [0.11111111],\n",
       "       [0.11851852],\n",
       "       [0.11111111],\n",
       "       [0.08888889],\n",
       "       [0.08888889],\n",
       "       [0.08888889],\n",
       "       [0.08888889],\n",
       "       [0.0962963 ],\n",
       "       [0.1037037 ],\n",
       "       [0.11111111],\n",
       "       [0.1037037 ],\n",
       "       [0.1037037 ],\n",
       "       [0.1037037 ],\n",
       "       [0.1037037 ],\n",
       "       [0.0962963 ],\n",
       "       [0.08888889],\n",
       "       [0.08148148],\n",
       "       [0.08888889],\n",
       "       [0.0962963 ],\n",
       "       [0.0962963 ],\n",
       "       [0.08888889],\n",
       "       [0.08148148],\n",
       "       [0.08148148],\n",
       "       [0.08148148],\n",
       "       [0.07407407],\n",
       "       [0.07407407],\n",
       "       [0.06666667],\n",
       "       [0.05925926],\n",
       "       [0.05925926],\n",
       "       [0.05185185],\n",
       "       [0.05925926],\n",
       "       [0.06666667],\n",
       "       [0.07407407],\n",
       "       [0.08148148],\n",
       "       [0.08148148],\n",
       "       [0.07407407],\n",
       "       [0.07407407],\n",
       "       [0.07407407],\n",
       "       [0.08148148],\n",
       "       [0.07407407],\n",
       "       [0.07407407],\n",
       "       [0.08148148],\n",
       "       [0.08148148],\n",
       "       [0.08888889],\n",
       "       [0.08888889],\n",
       "       [0.08148148],\n",
       "       [0.07407407],\n",
       "       [0.07407407],\n",
       "       [0.07407407],\n",
       "       [0.07407407],\n",
       "       [0.07407407],\n",
       "       [0.08888889],\n",
       "       [0.08888889],\n",
       "       [0.08888889],\n",
       "       [0.1037037 ],\n",
       "       [0.11111111],\n",
       "       [0.1037037 ],\n",
       "       [0.0962963 ],\n",
       "       [0.0962963 ],\n",
       "       [0.1037037 ],\n",
       "       [0.11851852],\n",
       "       [0.13333333],\n",
       "       [0.13333333],\n",
       "       [0.13333333],\n",
       "       [0.12592593],\n",
       "       [0.11851852],\n",
       "       [0.0962963 ],\n",
       "       [0.08888889],\n",
       "       [0.08888889],\n",
       "       [0.08888889],\n",
       "       [0.0962963 ],\n",
       "       [0.0962963 ],\n",
       "       [0.0962963 ],\n",
       "       [0.1037037 ],\n",
       "       [0.0962963 ],\n",
       "       [0.08888889],\n",
       "       [0.06666667],\n",
       "       [0.05925926],\n",
       "       [0.05185185],\n",
       "       [0.05185185],\n",
       "       [0.05185185],\n",
       "       [0.04444444],\n",
       "       [0.03703704],\n",
       "       [0.04444444],\n",
       "       [0.05185185],\n",
       "       [0.04444444],\n",
       "       [0.03703704],\n",
       "       [0.02962963],\n",
       "       [0.02962963],\n",
       "       [0.02962963],\n",
       "       [0.04444444],\n",
       "       [0.05925926],\n",
       "       [0.06666667],\n",
       "       [0.06666667],\n",
       "       [0.08888889],\n",
       "       [0.0962963 ],\n",
       "       [0.11851852],\n",
       "       [0.11851852],\n",
       "       [0.13333333],\n",
       "       [0.14074074],\n",
       "       [0.14074074],\n",
       "       [0.16296296],\n",
       "       [0.16296296],\n",
       "       [0.13333333],\n",
       "       [0.14814815],\n",
       "       [0.17777778],\n",
       "       [0.17777778],\n",
       "       [0.17777778],\n",
       "       [0.18518519],\n",
       "       [0.19259259],\n",
       "       [0.2       ],\n",
       "       [0.14814815],\n",
       "       [0.15555556],\n",
       "       [0.15555556],\n",
       "       [0.14814815],\n",
       "       [0.14814815],\n",
       "       [0.16296296],\n",
       "       [0.16296296],\n",
       "       [0.14074074],\n",
       "       [0.14814815],\n",
       "       [0.14074074],\n",
       "       [0.11111111],\n",
       "       [0.0962963 ],\n",
       "       [0.08888889],\n",
       "       [0.0962963 ],\n",
       "       [0.1037037 ],\n",
       "       [0.12592593],\n",
       "       [0.14074074],\n",
       "       [0.14074074],\n",
       "       [0.13333333],\n",
       "       [0.14074074],\n",
       "       [0.14814815],\n",
       "       [0.16296296],\n",
       "       [0.15555556],\n",
       "       [0.14074074],\n",
       "       [0.17037037],\n",
       "       [0.19259259],\n",
       "       [0.20740741],\n",
       "       [0.2       ],\n",
       "       [0.16296296],\n",
       "       [0.15555556],\n",
       "       [0.16296296],\n",
       "       [0.17037037],\n",
       "       [0.17777778],\n",
       "       [0.16296296],\n",
       "       [0.17037037],\n",
       "       [0.17777778],\n",
       "       [0.18518519],\n",
       "       [0.19259259],\n",
       "       [0.20740741],\n",
       "       [0.21481481],\n",
       "       [0.21481481],\n",
       "       [0.23703704],\n",
       "       [0.22962963],\n",
       "       [0.25185185],\n",
       "       [0.27407407],\n",
       "       [0.28888889],\n",
       "       [0.32592593],\n",
       "       [0.2962963 ],\n",
       "       [0.26666667],\n",
       "       [0.28888889],\n",
       "       [0.31111111],\n",
       "       [0.35555556],\n",
       "       [0.34074074],\n",
       "       [0.32592593],\n",
       "       [0.37037037],\n",
       "       [0.39259259],\n",
       "       [0.44444444],\n",
       "       [0.42962963],\n",
       "       [0.40740741],\n",
       "       [0.38518519],\n",
       "       [0.40740741],\n",
       "       [0.42962963],\n",
       "       [0.41481481],\n",
       "       [0.44444444],\n",
       "       [0.48888889],\n",
       "       [0.48148148],\n",
       "       [0.48148148],\n",
       "       [0.51851852],\n",
       "       [0.4962963 ],\n",
       "       [0.42962963],\n",
       "       [0.39259259],\n",
       "       [0.40740741],\n",
       "       [0.41481481],\n",
       "       [0.37777778],\n",
       "       [0.4       ],\n",
       "       [0.43703704],\n",
       "       [0.47407407],\n",
       "       [0.48148148],\n",
       "       [0.51851852],\n",
       "       [0.54074074],\n",
       "       [0.51111111],\n",
       "       [0.54814815],\n",
       "       [0.61481481],\n",
       "       [0.65185185],\n",
       "       [0.66666667],\n",
       "       [0.66666667],\n",
       "       [0.6962963 ],\n",
       "       [0.75555556],\n",
       "       [0.81481481],\n",
       "       [0.91111111],\n",
       "       [1.        ],\n",
       "       [0.96296296],\n",
       "       [0.85925926],\n",
       "       [0.67407407],\n",
       "       [0.48148148],\n",
       "       [0.35555556],\n",
       "       [0.2962963 ],\n",
       "       [0.3037037 ],\n",
       "       [0.2962963 ],\n",
       "       [0.34074074],\n",
       "       [0.38518519],\n",
       "       [0.41481481],\n",
       "       [0.45925926],\n",
       "       [0.47407407],\n",
       "       [0.48888889],\n",
       "       [0.47407407],\n",
       "       [0.51851852],\n",
       "       [0.53333333],\n",
       "       [0.52592593],\n",
       "       [0.52592593],\n",
       "       [0.53333333],\n",
       "       [0.56296296],\n",
       "       [0.58518519],\n",
       "       [0.51111111],\n",
       "       [0.52592593],\n",
       "       [0.54814815],\n",
       "       [0.53333333],\n",
       "       [0.54814815],\n",
       "       [0.58518519],\n",
       "       [0.60740741],\n",
       "       [0.65185185],\n",
       "       [0.6962963 ],\n",
       "       [0.75555556],\n",
       "       [0.81481481],\n",
       "       [0.88148148],\n",
       "       [0.82962963],\n",
       "       [0.83703704],\n",
       "       [0.84444444],\n",
       "       [0.8       ],\n",
       "       [0.81481481],\n",
       "       [0.80740741],\n",
       "       [0.81481481],\n",
       "       [0.81481481],\n",
       "       [0.8       ],\n",
       "       [0.88148148],\n",
       "       [0.91111111],\n",
       "       [0.86666667],\n",
       "       [0.78518519],\n",
       "       [0.71111111],\n",
       "       [0.73333333],\n",
       "       [0.79259259],\n",
       "       [0.79259259],\n",
       "       [0.81481481],\n",
       "       [0.77777778],\n",
       "       [0.79259259],\n",
       "       [0.83703704],\n",
       "       [0.81481481],\n",
       "       [0.78518519],\n",
       "       [0.73333333],\n",
       "       [0.74814815],\n",
       "       [0.74814815],\n",
       "       [0.79259259],\n",
       "       [0.8       ],\n",
       "       [0.23703704],\n",
       "       [0.25925926],\n",
       "       [0.32592593],\n",
       "       [0.3037037 ],\n",
       "       [0.31851852],\n",
       "       [0.31111111],\n",
       "       [0.33333333],\n",
       "       [0.35555556],\n",
       "       [0.34814815],\n",
       "       [0.34814815],\n",
       "       [0.32592593],\n",
       "       [0.31851852],\n",
       "       [0.31851852],\n",
       "       [0.34074074]])"
      ]
     },
     "execution_count": 66,
     "metadata": {},
     "output_type": "execute_result"
    }
   ],
   "source": [
    "scaled_train"
   ]
  },
  {
   "cell_type": "code",
   "execution_count": 67,
   "metadata": {},
   "outputs": [
    {
     "data": {
      "text/plain": [
       "array([[0.        ],\n",
       "       [0.01481481],\n",
       "       [0.02222222],\n",
       "       [0.04444444],\n",
       "       [0.04444444],\n",
       "       [0.05185185]])"
      ]
     },
     "execution_count": 67,
     "metadata": {},
     "output_type": "execute_result"
    }
   ],
   "source": [
    "scaled_train[:6]"
   ]
  },
  {
   "cell_type": "code",
   "execution_count": 68,
   "metadata": {},
   "outputs": [],
   "source": [
    "x,y = generator[0]"
   ]
  },
  {
   "cell_type": "code",
   "execution_count": 69,
   "metadata": {},
   "outputs": [
    {
     "data": {
      "text/plain": [
       "array([[[0.        ],\n",
       "        [0.01481481],\n",
       "        [0.02222222],\n",
       "        [0.04444444],\n",
       "        [0.04444444],\n",
       "        [0.05185185],\n",
       "        [0.05185185],\n",
       "        [0.05185185],\n",
       "        [0.04444444],\n",
       "        [0.03703704],\n",
       "        [0.03703704],\n",
       "        [0.03703704]]])"
      ]
     },
     "execution_count": 69,
     "metadata": {},
     "output_type": "execute_result"
    }
   ],
   "source": [
    "x"
   ]
  },
  {
   "cell_type": "code",
   "execution_count": 70,
   "metadata": {},
   "outputs": [
    {
     "data": {
      "text/plain": [
       "array([[0.03703704]])"
      ]
     },
     "execution_count": 70,
     "metadata": {},
     "output_type": "execute_result"
    }
   ],
   "source": [
    "y"
   ]
  },
  {
   "cell_type": "code",
   "execution_count": 71,
   "metadata": {},
   "outputs": [
    {
     "data": {
      "text/plain": [
       "((1, 12, 1), (1, 1))"
      ]
     },
     "execution_count": 71,
     "metadata": {},
     "output_type": "execute_result"
    }
   ],
   "source": [
    "x.shape, y.shape"
   ]
  },
  {
   "cell_type": "code",
   "execution_count": 72,
   "metadata": {},
   "outputs": [],
   "source": [
    "# check first 2 of your scaled_train & compare with x, also see if the predicted y is close to corresponding x"
   ]
  },
  {
   "cell_type": "code",
   "execution_count": 73,
   "metadata": {},
   "outputs": [],
   "source": [
    "### Create the Model\n",
    "\n",
    "# TASK: Create a Keras Sequential Model with as many LSTAM units you want and a final Dense Layer.**"
   ]
  },
  {
   "cell_type": "code",
   "execution_count": 74,
   "metadata": {},
   "outputs": [],
   "source": [
    "from keras.models import Sequential\n",
    "from keras.layers import Dense\n",
    "from keras.layers import LSTM\n",
    "Early_stopping = tf.keras.callbacks.EarlyStopping(monitor = 'val_loss',patience=2)"
   ]
  },
  {
   "cell_type": "code",
   "execution_count": 75,
   "metadata": {},
   "outputs": [],
   "source": [
    "# define model\n",
    "model = Sequential()\n",
    "model.add(LSTM(150, activation='relu', input_shape=(n_input, n_features)))\n",
    "\n",
    "model.add(Dense(1))\n",
    "model.compile(optimizer='adam', loss='mse')"
   ]
  },
  {
   "cell_type": "code",
   "execution_count": 76,
   "metadata": {},
   "outputs": [
    {
     "name": "stdout",
     "output_type": "stream",
     "text": [
      "Model: \"sequential\"\n",
      "_________________________________________________________________\n",
      "Layer (type)                 Output Shape              Param #   \n",
      "=================================================================\n",
      "lstm (LSTM)                  (None, 150)               91200     \n",
      "_________________________________________________________________\n",
      "dense (Dense)                (None, 1)                 151       \n",
      "=================================================================\n",
      "Total params: 91,351\n",
      "Trainable params: 91,351\n",
      "Non-trainable params: 0\n",
      "_________________________________________________________________\n"
     ]
    }
   ],
   "source": [
    "model.summary()"
   ]
  },
  {
   "cell_type": "code",
   "execution_count": 77,
   "metadata": {},
   "outputs": [],
   "source": [
    "validation_generator = TimeseriesGenerator(scaled_test, scaled_test, length=n_input, batch_size=1)"
   ]
  },
  {
   "cell_type": "code",
   "execution_count": 78,
   "metadata": {},
   "outputs": [
    {
     "name": "stdout",
     "output_type": "stream",
     "text": [
      "Epoch 1/30\n"
     ]
    },
    {
     "name": "stderr",
     "output_type": "stream",
     "text": [
      "C:\\Users\\Henry\\anaconda3\\lib\\site-packages\\tensorflow\\python\\keras\\engine\\training.py:1879: UserWarning: `Model.fit_generator` is deprecated and will be removed in a future version. Please use `Model.fit`, which supports generators.\n",
      "  warnings.warn('`Model.fit_generator` is deprecated and '\n"
     ]
    },
    {
     "name": "stdout",
     "output_type": "stream",
     "text": [
      "480/480 [==============================] - 3s 5ms/step - loss: 0.0013 - val_loss: 0.0058\n",
      "Epoch 2/30\n",
      "480/480 [==============================] - 1s 3ms/step - loss: 0.0056 - val_loss: 0.0021\n",
      "Epoch 3/30\n",
      "480/480 [==============================] - 1s 3ms/step - loss: 0.0115 - val_loss: 0.0072\n",
      "Epoch 4/30\n",
      "480/480 [==============================] - 1s 3ms/step - loss: 0.0054 - val_loss: 0.0012\n",
      "Epoch 5/30\n",
      "480/480 [==============================] - 1s 3ms/step - loss: 0.0074 - val_loss: 0.0045\n",
      "Epoch 6/30\n",
      "480/480 [==============================] - 1s 3ms/step - loss: 0.0095 - val_loss: 0.0025\n"
     ]
    },
    {
     "data": {
      "text/plain": [
       "<tensorflow.python.keras.callbacks.History at 0x24a2ead7b50>"
      ]
     },
     "execution_count": 78,
     "metadata": {},
     "output_type": "execute_result"
    }
   ],
   "source": [
    "# fit model\n",
    "# multiprocessing=False  in methods like fit_generator\n",
    "model.fit_generator(generator,callbacks=[Early_stopping],validation_data = validation_generator,epochs=30,shuffle = False)"
   ]
  },
  {
   "cell_type": "code",
   "execution_count": 79,
   "metadata": {},
   "outputs": [
    {
     "data": {
      "text/plain": [
       "dict_keys(['loss', 'val_loss'])"
      ]
     },
     "execution_count": 79,
     "metadata": {},
     "output_type": "execute_result"
    }
   ],
   "source": [
    "# **TASK: Plot the history of the loss that occured during training.**\n",
    "\n",
    "model.history.history.keys()"
   ]
  },
  {
   "cell_type": "code",
   "execution_count": 80,
   "metadata": {},
   "outputs": [
    {
     "data": {
      "text/plain": [
       "[<matplotlib.lines.Line2D at 0x24a38d01ee0>]"
      ]
     },
     "execution_count": 80,
     "metadata": {},
     "output_type": "execute_result"
    },
    {
     "data": {
      "image/png": "[encoded data removed]",
      "text/plain": [
       "<Figure size 576x396 with 1 Axes>"
      ]
     },
     "metadata": {},
     "output_type": "display_data"
    }
   ],
   "source": [
    "loss_per_epoch = model.history.history['loss']\n",
    "plt.plot(range(len(loss_per_epoch)),loss_per_epoch)"
   ]
  },
  {
   "cell_type": "code",
   "execution_count": 81,
   "metadata": {},
   "outputs": [],
   "source": [
    "## Evaluate on Test Data\n",
    "\n",
    "# TASK: Based on your test data and input size, create an appropriate;y sized \"first evaluation batch\"\n",
    "\n",
    "first_eval_batch = scaled_train[-12:]"
   ]
  },
  {
   "cell_type": "code",
   "execution_count": 82,
   "metadata": {},
   "outputs": [],
   "source": [
    "first_eval_batch = first_eval_batch.reshape((1, 12, n_features))"
   ]
  },
  {
   "cell_type": "code",
   "execution_count": 83,
   "metadata": {},
   "outputs": [],
   "source": [
    "# **TASK: Generate predictions into the same time stamps as the test set**\n",
    "\n",
    "test_predictions = []\n",
    "\n",
    "first_eval_batch = scaled_train[-n_input:]\n",
    "current_batch = first_eval_batch.reshape((1, n_input, n_features))\n",
    "\n",
    "for i in range(len(test)):\n",
    "    \n",
    "    # get prediction 1 time stamp ahead ([0] is for grabbing just the number instead of [array])\n",
    "    current_pred = model.predict(current_batch)[0]\n",
    "    \n",
    "    # store prediction\n",
    "    test_predictions.append(current_pred) \n",
    "    \n",
    "    # update batch to now include prediction and drop first value\n",
    "    current_batch = np.append(current_batch[:,1:,:],[[current_pred]],axis=1)"
   ]
  },
  {
   "cell_type": "code",
   "execution_count": 84,
   "metadata": {},
   "outputs": [
    {
     "data": {
      "text/plain": [
       "[array([0.41230726], dtype=float32),\n",
       " array([0.42956105], dtype=float32),\n",
       " array([0.443187], dtype=float32),\n",
       " array([0.45358157], dtype=float32),\n",
       " array([0.46118915], dtype=float32),\n",
       " array([0.46650907], dtype=float32),\n",
       " array([0.47007224], dtype=float32),\n",
       " array([0.47234672], dtype=float32),\n",
       " array([0.47373784], dtype=float32),\n",
       " array([0.47456628], dtype=float32),\n",
       " array([0.47507674], dtype=float32),\n",
       " array([0.4754033], dtype=float32),\n",
       " array([0.47561944], dtype=float32),\n",
       " array([0.47574568], dtype=float32),\n",
       " array([0.47582126], dtype=float32),\n",
       " array([0.47586656], dtype=float32),\n",
       " array([0.47589374], dtype=float32),\n",
       " array([0.47591], dtype=float32),\n",
       " array([0.47591978], dtype=float32),\n",
       " array([0.4759255], dtype=float32)]"
      ]
     },
     "execution_count": 84,
     "metadata": {},
     "output_type": "execute_result"
    }
   ],
   "source": [
    "test_predictions"
   ]
  },
  {
   "cell_type": "code",
   "execution_count": 85,
   "metadata": {},
   "outputs": [],
   "source": [
    "## Inverse Transformations and Compare\n",
    "\n",
    "## TASK: Inverse Transform your new forecasted predictions.**\n",
    "\n",
    "\n",
    "true_predictions_new = scaler.inverse_transform(test_predictions)"
   ]
  },
  {
   "cell_type": "code",
   "execution_count": 86,
   "metadata": {},
   "outputs": [
    {
     "name": "stderr",
     "output_type": "stream",
     "text": [
      "<ipython-input-86-b21e09998b6e>:2: SettingWithCopyWarning: \n",
      "A value is trying to be set on a copy of a slice from a DataFrame.\n",
      "Try using .loc[row_indexer,col_indexer] = value instead\n",
      "\n",
      "See the caveats in the documentation: https://pandas.pydata.org/pandas-docs/stable/user_guide/indexing.html#returning-a-view-versus-a-copy\n",
      "  test['Predictions'] =true_predictions_new\n"
     ]
    }
   ],
   "source": [
    "# IGNORE WARNINGS\n",
    "test['Predictions'] =true_predictions_new"
   ]
  },
  {
   "cell_type": "code",
   "execution_count": 87,
   "metadata": {},
   "outputs": [
    {
     "data": {
      "text/html": [
       "<div>\n",
       "<style scoped>\n",
       "    .dataframe tbody tr th:only-of-type {\n",
       "        vertical-align: middle;\n",
       "    }\n",
       "\n",
       "    .dataframe tbody tr th {\n",
       "        vertical-align: top;\n",
       "    }\n",
       "\n",
       "    .dataframe thead th {\n",
       "        text-align: right;\n",
       "    }\n",
       "</style>\n",
       "<table border=\"1\" class=\"dataframe\">\n",
       "  <thead>\n",
       "    <tr style=\"text-align: right;\">\n",
       "      <th></th>\n",
       "      <th>PRIZE</th>\n",
       "      <th>Predictions</th>\n",
       "    </tr>\n",
       "    <tr>\n",
       "      <th>Date</th>\n",
       "      <th></th>\n",
       "      <th></th>\n",
       "    </tr>\n",
       "  </thead>\n",
       "  <tbody>\n",
       "    <tr>\n",
       "      <th>2017-09-01</th>\n",
       "      <td>57</td>\n",
       "      <td>62.661480</td>\n",
       "    </tr>\n",
       "    <tr>\n",
       "      <th>2017-10-01</th>\n",
       "      <td>59</td>\n",
       "      <td>64.990742</td>\n",
       "    </tr>\n",
       "    <tr>\n",
       "      <th>2017-11-01</th>\n",
       "      <td>64</td>\n",
       "      <td>66.830245</td>\n",
       "    </tr>\n",
       "    <tr>\n",
       "      <th>2017-12-01</th>\n",
       "      <td>67</td>\n",
       "      <td>68.233512</td>\n",
       "    </tr>\n",
       "    <tr>\n",
       "      <th>2018-01-01</th>\n",
       "      <td>69</td>\n",
       "      <td>69.260535</td>\n",
       "    </tr>\n",
       "    <tr>\n",
       "      <th>2018-02-01</th>\n",
       "      <td>69</td>\n",
       "      <td>69.978725</td>\n",
       "    </tr>\n",
       "    <tr>\n",
       "      <th>2018-03-01</th>\n",
       "      <td>70</td>\n",
       "      <td>70.459752</td>\n",
       "    </tr>\n",
       "    <tr>\n",
       "      <th>2018-05-01</th>\n",
       "      <td>79</td>\n",
       "      <td>70.766808</td>\n",
       "    </tr>\n",
       "    <tr>\n",
       "      <th>2018-11-01</th>\n",
       "      <td>68</td>\n",
       "      <td>70.954608</td>\n",
       "    </tr>\n",
       "    <tr>\n",
       "      <th>2018-12-01</th>\n",
       "      <td>62</td>\n",
       "      <td>71.066448</td>\n",
       "    </tr>\n",
       "    <tr>\n",
       "      <th>2019-04-01</th>\n",
       "      <td>75</td>\n",
       "      <td>71.135359</td>\n",
       "    </tr>\n",
       "    <tr>\n",
       "      <th>2019-05-01</th>\n",
       "      <td>72</td>\n",
       "      <td>71.179447</td>\n",
       "    </tr>\n",
       "  </tbody>\n",
       "</table>\n",
       "</div>"
      ],
      "text/plain": [
       "            PRIZE  Predictions\n",
       "Date                          \n",
       "2017-09-01     57    62.661480\n",
       "2017-10-01     59    64.990742\n",
       "2017-11-01     64    66.830245\n",
       "2017-12-01     67    68.233512\n",
       "2018-01-01     69    69.260535\n",
       "2018-02-01     69    69.978725\n",
       "2018-03-01     70    70.459752\n",
       "2018-05-01     79    70.766808\n",
       "2018-11-01     68    70.954608\n",
       "2018-12-01     62    71.066448\n",
       "2019-04-01     75    71.135359\n",
       "2019-05-01     72    71.179447"
      ]
     },
     "execution_count": 87,
     "metadata": {},
     "output_type": "execute_result"
    }
   ],
   "source": [
    "test.head(12)"
   ]
  },
  {
   "cell_type": "code",
   "execution_count": 88,
   "metadata": {},
   "outputs": [
    {
     "data": {
      "text/plain": [
       "<AxesSubplot:xlabel='Date'>"
      ]
     },
     "execution_count": 88,
     "metadata": {},
     "output_type": "execute_result"
    },
    {
     "data": {
      "image/png": "[encoded data removed]",
      "text/plain": [
       "<Figure size 1080x504 with 1 Axes>"
      ]
     },
     "metadata": {},
     "output_type": "display_data"
    }
   ],
   "source": [
    "test.plot(figsize=(15,7))"
   ]
  },
  {
   "cell_type": "code",
   "execution_count": 89,
   "metadata": {},
   "outputs": [
    {
     "name": "stdout",
     "output_type": "stream",
     "text": [
      "6.343508916285851\n"
     ]
    }
   ],
   "source": [
    "from sklearn.metrics import r2_score\n",
    "from sklearn.metrics import mean_squared_error\n",
    "from math import sqrt\n",
    "\n",
    "print(np.sqrt(mean_squared_error(test.PRIZE,true_predictions_new)))"
   ]
  },
  {
   "cell_type": "markdown",
   "metadata": {},
   "source": [
    "# to make future forcast"
   ]
  },
  {
   "cell_type": "code",
   "execution_count": 90,
   "metadata": {},
   "outputs": [],
   "source": [
    "full_scaler = MinMaxScaler()"
   ]
  },
  {
   "cell_type": "code",
   "execution_count": 91,
   "metadata": {},
   "outputs": [],
   "source": [
    "# forcasting with full data set\n",
    "scaled_full_data = full_scaler.fit_transform(data_rnn)"
   ]
  },
  {
   "cell_type": "code",
   "execution_count": 92,
   "metadata": {},
   "outputs": [],
   "source": [
    "n_input = 12"
   ]
  },
  {
   "cell_type": "code",
   "execution_count": 93,
   "metadata": {},
   "outputs": [],
   "source": [
    "generator = TimeseriesGenerator(scaled_full_data, scaled_full_data, length=n_input, batch_size=1)"
   ]
  },
  {
   "cell_type": "code",
   "execution_count": 94,
   "metadata": {},
   "outputs": [],
   "source": [
    "# define model\n",
    "model = Sequential()\n",
    "model.add(LSTM(100, activation='relu', input_shape=(n_input, n_features)))\n",
    "\n",
    "model.add(Dense(1))\n",
    "model.compile(optimizer='adam', loss='mse')"
   ]
  },
  {
   "cell_type": "code",
   "execution_count": 95,
   "metadata": {},
   "outputs": [
    {
     "name": "stdout",
     "output_type": "stream",
     "text": [
      "Epoch 1/8"
     ]
    },
    {
     "name": "stderr",
     "output_type": "stream",
     "text": [
      "C:\\Users\\Henry\\anaconda3\\lib\\site-packages\\tensorflow\\python\\keras\\engine\\training.py:1879: UserWarning: `Model.fit_generator` is deprecated and will be removed in a future version. Please use `Model.fit`, which supports generators.\n",
      "  warnings.warn('`Model.fit_generator` is deprecated and '\n"
     ]
    },
    {
     "name": "stdout",
     "output_type": "stream",
     "text": [
      "\n",
      "500/500 [==============================] - 2s 2ms/step - loss: 0.0018\n",
      "Epoch 2/8\n",
      "500/500 [==============================] - 1s 2ms/step - loss: 0.0094\n",
      "Epoch 3/8\n",
      "500/500 [==============================] - 1s 2ms/step - loss: 0.0103\n",
      "Epoch 4/8\n",
      "500/500 [==============================] - 1s 2ms/step - loss: 0.0080\n",
      "Epoch 5/8\n",
      "500/500 [==============================] - 1s 2ms/step - loss: 0.0063\n",
      "Epoch 6/8\n",
      "500/500 [==============================] - 1s 2ms/step - loss: 0.0048\n",
      "Epoch 7/8\n",
      "500/500 [==============================] - 1s 2ms/step - loss: 0.0032\n",
      "Epoch 8/8\n",
      "500/500 [==============================] - 1s 2ms/step - loss: 0.0021\n"
     ]
    },
    {
     "data": {
      "text/plain": [
       "<tensorflow.python.keras.callbacks.History at 0x24a39153ca0>"
      ]
     },
     "execution_count": 95,
     "metadata": {},
     "output_type": "execute_result"
    }
   ],
   "source": [
    "\n",
    "model.fit_generator(generator,epochs=8,shuffle = False)"
   ]
  },
  {
   "cell_type": "code",
   "execution_count": 96,
   "metadata": {},
   "outputs": [],
   "source": [
    "# **TASK: Generate predictions into the same time stamps as the test set**\n",
    "\n",
    "forcast = []\n",
    "\n",
    "first_eval_batch = scaled_full_data[-n_input:]\n",
    "current_batch = first_eval_batch.reshape((1, n_input, n_features))\n",
    "\n",
    "for i in range(len(test)):\n",
    "    \n",
    "    # get prediction 1 time stamp ahead ([0] is for grabbing just the number instead of [array])\n",
    "    current_pred = model.predict(current_batch)[0]\n",
    "    \n",
    "    # store prediction\n",
    "    forcast.append(current_pred) \n",
    "    \n",
    "    # update batch to now include prediction and drop first value\n",
    "    current_batch = np.append(current_batch[:,1:,:],[[current_pred]],axis=1)"
   ]
  },
  {
   "cell_type": "code",
   "execution_count": 97,
   "metadata": {},
   "outputs": [
    {
     "data": {
      "text/plain": [
       "[array([0.36841416], dtype=float32),\n",
       " array([0.35827208], dtype=float32),\n",
       " array([0.35552397], dtype=float32),\n",
       " array([0.35788867], dtype=float32),\n",
       " array([0.36364347], dtype=float32),\n",
       " array([0.37111938], dtype=float32),\n",
       " array([0.37875777], dtype=float32),\n",
       " array([0.38547498], dtype=float32),\n",
       " array([0.390626], dtype=float32),\n",
       " array([0.39420927], dtype=float32),\n",
       " array([0.3965823], dtype=float32),\n",
       " array([0.39776558], dtype=float32),\n",
       " array([0.39768648], dtype=float32),\n",
       " array([0.39693844], dtype=float32),\n",
       " array([0.39578688], dtype=float32),\n",
       " array([0.39448428], dtype=float32),\n",
       " array([0.39322373], dtype=float32),\n",
       " array([0.3921343], dtype=float32),\n",
       " array([0.3912905], dtype=float32),\n",
       " array([0.39071772], dtype=float32)]"
      ]
     },
     "execution_count": 97,
     "metadata": {},
     "output_type": "execute_result"
    }
   ],
   "source": [
    "forcast"
   ]
  },
  {
   "cell_type": "code",
   "execution_count": 98,
   "metadata": {},
   "outputs": [],
   "source": [
    "true_forcast = scaler.inverse_transform(forcast)"
   ]
  },
  {
   "cell_type": "code",
   "execution_count": 99,
   "metadata": {},
   "outputs": [
    {
     "data": {
      "text/plain": [
       "array([[56.73591208],\n",
       "       [55.36673021],\n",
       "       [54.99573645],\n",
       "       [55.31497028],\n",
       "       [56.0918681 ],\n",
       "       [57.1011163 ],\n",
       "       [58.1322996 ],\n",
       "       [59.03912228],\n",
       "       [59.73451179],\n",
       "       [60.21825087],\n",
       "       [60.53861123],\n",
       "       [60.69835287],\n",
       "       [60.687675  ],\n",
       "       [60.58668983],\n",
       "       [60.431229  ],\n",
       "       [60.25537801],\n",
       "       [60.08520392],\n",
       "       [59.93813169],\n",
       "       [59.82421559],\n",
       "       [59.74689153]])"
      ]
     },
     "execution_count": 99,
     "metadata": {},
     "output_type": "execute_result"
    }
   ],
   "source": [
    "true_forcast"
   ]
  },
  {
   "cell_type": "code",
   "execution_count": 100,
   "metadata": {},
   "outputs": [
    {
     "data": {
      "text/html": [
       "<div>\n",
       "<style scoped>\n",
       "    .dataframe tbody tr th:only-of-type {\n",
       "        vertical-align: middle;\n",
       "    }\n",
       "\n",
       "    .dataframe tbody tr th {\n",
       "        vertical-align: top;\n",
       "    }\n",
       "\n",
       "    .dataframe thead th {\n",
       "        text-align: right;\n",
       "    }\n",
       "</style>\n",
       "<table border=\"1\" class=\"dataframe\">\n",
       "  <thead>\n",
       "    <tr style=\"text-align: right;\">\n",
       "      <th></th>\n",
       "      <th>PRIZE</th>\n",
       "    </tr>\n",
       "    <tr>\n",
       "      <th>Date</th>\n",
       "      <th></th>\n",
       "    </tr>\n",
       "  </thead>\n",
       "  <tbody>\n",
       "    <tr>\n",
       "      <th>2019-04-01</th>\n",
       "      <td>75</td>\n",
       "    </tr>\n",
       "    <tr>\n",
       "      <th>2019-05-01</th>\n",
       "      <td>72</td>\n",
       "    </tr>\n",
       "    <tr>\n",
       "      <th>2019-06-01</th>\n",
       "      <td>69</td>\n",
       "    </tr>\n",
       "    <tr>\n",
       "      <th>2019-07-01</th>\n",
       "      <td>67</td>\n",
       "    </tr>\n",
       "    <tr>\n",
       "      <th>2019-08-01</th>\n",
       "      <td>65</td>\n",
       "    </tr>\n",
       "    <tr>\n",
       "      <th>2019-09-01</th>\n",
       "      <td>66</td>\n",
       "    </tr>\n",
       "    <tr>\n",
       "      <th>2019-10-01</th>\n",
       "      <td>65</td>\n",
       "    </tr>\n",
       "    <tr>\n",
       "      <th>2019-11-01</th>\n",
       "      <td>69</td>\n",
       "    </tr>\n",
       "    <tr>\n",
       "      <th>2020-02-01</th>\n",
       "      <td>62</td>\n",
       "    </tr>\n",
       "    <tr>\n",
       "      <th>2020-12-01</th>\n",
       "      <td>53</td>\n",
       "    </tr>\n",
       "  </tbody>\n",
       "</table>\n",
       "</div>"
      ],
      "text/plain": [
       "            PRIZE\n",
       "Date             \n",
       "2019-04-01     75\n",
       "2019-05-01     72\n",
       "2019-06-01     69\n",
       "2019-07-01     67\n",
       "2019-08-01     65\n",
       "2019-09-01     66\n",
       "2019-10-01     65\n",
       "2019-11-01     69\n",
       "2020-02-01     62\n",
       "2020-12-01     53"
      ]
     },
     "execution_count": 100,
     "metadata": {},
     "output_type": "execute_result"
    }
   ],
   "source": [
    "data_rnn.tail(10)"
   ]
  },
  {
   "cell_type": "code",
   "execution_count": 101,
   "metadata": {},
   "outputs": [
    {
     "data": {
      "text/plain": [
       "DatetimeIndex(['2020-12-01', '2021-01-01', '2021-02-01', '2021-03-01',\n",
       "               '2021-04-01', '2021-05-01', '2021-06-01', '2021-07-01',\n",
       "               '2021-08-01', '2021-09-01', '2021-10-01', '2021-11-01',\n",
       "               '2021-12-01', '2022-01-01', '2022-02-01', '2022-03-01',\n",
       "               '2022-04-01', '2022-05-01', '2022-06-01', '2022-07-01'],\n",
       "              dtype='datetime64[ns]', freq='MS')"
      ]
     },
     "execution_count": 101,
     "metadata": {},
     "output_type": "execute_result"
    }
   ],
   "source": [
    "# convert z to dataframe\n",
    "forcast_index = pd.date_range('2020-12-01', periods=20, freq='MS')\n",
    "forcast_index"
   ]
  },
  {
   "cell_type": "markdown",
   "metadata": {},
   "source": [
    "## Read the forcast crude oil prize below."
   ]
  },
  {
   "cell_type": "code",
   "execution_count": 102,
   "metadata": {},
   "outputs": [
    {
     "data": {
      "text/html": [
       "<div>\n",
       "<style scoped>\n",
       "    .dataframe tbody tr th:only-of-type {\n",
       "        vertical-align: middle;\n",
       "    }\n",
       "\n",
       "    .dataframe tbody tr th {\n",
       "        vertical-align: top;\n",
       "    }\n",
       "\n",
       "    .dataframe thead th {\n",
       "        text-align: right;\n",
       "    }\n",
       "</style>\n",
       "<table border=\"1\" class=\"dataframe\">\n",
       "  <thead>\n",
       "    <tr style=\"text-align: right;\">\n",
       "      <th></th>\n",
       "      <th>forcast</th>\n",
       "    </tr>\n",
       "  </thead>\n",
       "  <tbody>\n",
       "    <tr>\n",
       "      <th>2020-12-01</th>\n",
       "      <td>56.735912</td>\n",
       "    </tr>\n",
       "    <tr>\n",
       "      <th>2021-01-01</th>\n",
       "      <td>55.366730</td>\n",
       "    </tr>\n",
       "    <tr>\n",
       "      <th>2021-02-01</th>\n",
       "      <td>54.995736</td>\n",
       "    </tr>\n",
       "    <tr>\n",
       "      <th>2021-03-01</th>\n",
       "      <td>55.314970</td>\n",
       "    </tr>\n",
       "    <tr>\n",
       "      <th>2021-04-01</th>\n",
       "      <td>56.091868</td>\n",
       "    </tr>\n",
       "    <tr>\n",
       "      <th>2021-05-01</th>\n",
       "      <td>57.101116</td>\n",
       "    </tr>\n",
       "    <tr>\n",
       "      <th>2021-06-01</th>\n",
       "      <td>58.132300</td>\n",
       "    </tr>\n",
       "    <tr>\n",
       "      <th>2021-07-01</th>\n",
       "      <td>59.039122</td>\n",
       "    </tr>\n",
       "    <tr>\n",
       "      <th>2021-08-01</th>\n",
       "      <td>59.734512</td>\n",
       "    </tr>\n",
       "    <tr>\n",
       "      <th>2021-09-01</th>\n",
       "      <td>60.218251</td>\n",
       "    </tr>\n",
       "    <tr>\n",
       "      <th>2021-10-01</th>\n",
       "      <td>60.538611</td>\n",
       "    </tr>\n",
       "    <tr>\n",
       "      <th>2021-11-01</th>\n",
       "      <td>60.698353</td>\n",
       "    </tr>\n",
       "    <tr>\n",
       "      <th>2021-12-01</th>\n",
       "      <td>60.687675</td>\n",
       "    </tr>\n",
       "    <tr>\n",
       "      <th>2022-01-01</th>\n",
       "      <td>60.586690</td>\n",
       "    </tr>\n",
       "    <tr>\n",
       "      <th>2022-02-01</th>\n",
       "      <td>60.431229</td>\n",
       "    </tr>\n",
       "    <tr>\n",
       "      <th>2022-03-01</th>\n",
       "      <td>60.255378</td>\n",
       "    </tr>\n",
       "    <tr>\n",
       "      <th>2022-04-01</th>\n",
       "      <td>60.085204</td>\n",
       "    </tr>\n",
       "    <tr>\n",
       "      <th>2022-05-01</th>\n",
       "      <td>59.938132</td>\n",
       "    </tr>\n",
       "    <tr>\n",
       "      <th>2022-06-01</th>\n",
       "      <td>59.824216</td>\n",
       "    </tr>\n",
       "    <tr>\n",
       "      <th>2022-07-01</th>\n",
       "      <td>59.746892</td>\n",
       "    </tr>\n",
       "  </tbody>\n",
       "</table>\n",
       "</div>"
      ],
      "text/plain": [
       "              forcast\n",
       "2020-12-01  56.735912\n",
       "2021-01-01  55.366730\n",
       "2021-02-01  54.995736\n",
       "2021-03-01  55.314970\n",
       "2021-04-01  56.091868\n",
       "2021-05-01  57.101116\n",
       "2021-06-01  58.132300\n",
       "2021-07-01  59.039122\n",
       "2021-08-01  59.734512\n",
       "2021-09-01  60.218251\n",
       "2021-10-01  60.538611\n",
       "2021-11-01  60.698353\n",
       "2021-12-01  60.687675\n",
       "2022-01-01  60.586690\n",
       "2022-02-01  60.431229\n",
       "2022-03-01  60.255378\n",
       "2022-04-01  60.085204\n",
       "2022-05-01  59.938132\n",
       "2022-06-01  59.824216\n",
       "2022-07-01  59.746892"
      ]
     },
     "execution_count": 102,
     "metadata": {},
     "output_type": "execute_result"
    }
   ],
   "source": [
    "true_forcast = pd.DataFrame(data = true_forcast,index =forcast_index,columns = ['forcast'])\n",
    "true_forcast"
   ]
  },
  {
   "cell_type": "code",
   "execution_count": 104,
   "metadata": {},
   "outputs": [
    {
     "data": {
      "text/plain": [
       "(594.0, 630.0)"
      ]
     },
     "execution_count": 104,
     "metadata": {},
     "output_type": "execute_result"
    },
    {
     "data": {
      "image/png": "[encoded data removed]",
      "text/plain": [
       "<Figure size 1008x432 with 1 Axes>"
      ]
     },
     "metadata": {},
     "output_type": "display_data"
    }
   ],
   "source": [
    "ax =true_forcast.plot(legend=True,figsize =(14,6))\n",
    "data_rnn.plot(ax = ax)\n",
    "plt.xlim('2019-07-01','2022-07-01')"
   ]
  },
  {
   "cell_type": "markdown",
   "metadata": {},
   "source": [
    "## In conclusion, this study has demostrated that deep learning ( RNN) has a more prediction accuracy when compared with the classical method of time series prediction\n",
    "\n",
    "## I aslo observe that forcasting so long into the future introduces lots of noise into the prediction accuracy. Could this be a limitation or a challenge of using RNN ?\n",
    "\n",
    "## Thanks\n",
    "\n",
    "## Henry Nwachukwu.\n",
    "\n"
   ]
  },
  {
   "cell_type": "code",
   "execution_count": null,
   "metadata": {},
   "outputs": [],
   "source": []
  }
 ],
 "metadata": {
  "kernelspec": {
   "display_name": "Python 3",
   "language": "python",
   "name": "python3"
  },
  "language_info": {
   "codemirror_mode": {
    "name": "ipython",
    "version": 3
   },
   "file_extension": ".py",
   "mimetype": "text/x-python",
   "name": "python",
   "nbconvert_exporter": "python",
   "pygments_lexer": "ipython3",
   "version": "3.8.5"
  }
 },
 "nbformat": 4,
 "nbformat_minor": 4
}
